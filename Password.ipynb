{
 "cells": [
  {
   "cell_type": "markdown",
   "metadata": {
    "id": "t3Qf_KdkRErM"
   },
   "source": [
    "# Password cracking exercise"
   ]
  },
  {
   "cell_type": "markdown",
   "metadata": {
    "id": "jONrLp5sRT2p"
   },
   "source": [
    "**READ FIRST!**\n",
    "\n",
    "Before you run any cells, switch to GPU runtime.\n",
    "\n",
    "Runtime -> Change Runtime type -> GPU -> Save"
   ]
  },
  {
   "cell_type": "markdown",
   "metadata": {
    "id": "MDonhIaMRx68"
   },
   "source": [
    "## Set up"
   ]
  },
  {
   "cell_type": "code",
   "execution_count": null,
   "metadata": {
    "id": "f2WdsK2p84ae"
   },
   "outputs": [],
   "source": [
    "cd /content/"
   ]
  },
  {
   "cell_type": "code",
   "execution_count": null,
   "metadata": {
    "id": "jZ7NrHWLOxNS"
   },
   "outputs": [],
   "source": [
    "!git clone https://gitlab.com/CBDS/estp_2021/password_cracking.git"
   ]
  },
  {
   "cell_type": "code",
   "execution_count": null,
   "metadata": {
    "id": "t9XICVZdPA1u"
   },
   "outputs": [],
   "source": [
    "cd password_cracking/"
   ]
  },
  {
   "cell_type": "code",
   "execution_count": null,
   "metadata": {
    "id": "dBAX6u-bPIUG"
   },
   "outputs": [],
   "source": [
    "!./setup.sh"
   ]
  },
  {
   "cell_type": "code",
   "execution_count": null,
   "metadata": {
    "id": "QrLrHElLQm9v"
   },
   "outputs": [],
   "source": [
    "!$(pwd)/john-1.9.0-jumbo-1/run/john --list=opencl-devices"
   ]
  },
  {
   "cell_type": "markdown",
   "metadata": {
    "id": "I0p7UDcRR09t"
   },
   "source": [
    "Make sure the output of the above cell contains `Device type: GPU`. Otherwise the following calculations will take _much_ longer. If it doesn't run on GPU, please re-check that you have selected the GPU runtime."
   ]
  },
  {
   "cell_type": "markdown",
   "metadata": {
    "id": "FBQdPKUASOBH"
   },
   "source": [
    "## Crack passwords"
   ]
  },
  {
   "cell_type": "markdown",
   "metadata": {
    "id": "n4x8MrTDSdzt"
   },
   "source": [
    "Run the following cell for **5 mins** and then cancel it by clicking on the square button on its left. This will use a generic standard approach to find passwords:\n",
    "\n",
    "\n",
    "1.   Try a list of most-used passwords\n",
    "2.   Try random characters\n",
    "\n",
    "Note that variations like appending numbers or replacing characters (changing O to 0, 1 to !, S to $) can be done automatically. The output will contain cracked passwords and their username like so:\n",
    "```\n",
    "password    (username)\n",
    "```\n",
    "\n",
    "\n"
   ]
  },
  {
   "cell_type": "code",
   "execution_count": null,
   "metadata": {
    "id": "5go80KjXSRv3"
   },
   "outputs": [],
   "source": [
    "!$(pwd)/john-1.9.0-jumbo-1/run/john --format=opencl passwd.txt"
   ]
  },
  {
   "cell_type": "markdown",
   "metadata": {
    "id": "XyH1GSGNWfVt"
   },
   "source": [
    "Next we try the **rockyou.txt** wordlist. The company RockYou used to store user passwords unencrypted, got hacked and had the passwords leaked, see https://en.wikipedia.org/wiki/RockYou#Data_breach. While bad for the users, this incident gave researchers valuable insight in real-world password usage."
   ]
  },
  {
   "cell_type": "code",
   "execution_count": null,
   "metadata": {
    "id": "Lb0_87HH_Woc"
   },
   "outputs": [],
   "source": [
    "!$(pwd)/john-1.9.0-jumbo-1/run/john --wordlist=word_files/rockyou.txt --format=opencl passwd.txt"
   ]
  },
  {
   "cell_type": "markdown",
   "metadata": {
    "id": "xjxKNc3aX0oZ"
   },
   "source": [
    "Let's try some more known passwords. The synthetic dataset **email_phished.txt** is a made-up list of passwords that could have been phished via email. See: https://en.wikipedia.org/wiki/Phishing"
   ]
  },
  {
   "cell_type": "code",
   "execution_count": null,
   "metadata": {
    "id": "7ON93tsxsRJ7"
   },
   "outputs": [],
   "source": [
    "!$(pwd)/john-1.9.0-jumbo-1/run/john --wordlist=word_files/email_phished.txt --format=opencl passwd.txt"
   ]
  },
  {
   "cell_type": "markdown",
   "metadata": {
    "id": "t9DnOzSdYbPh"
   },
   "source": [
    "Re-using passwords is very, *very* bad practise. Is any of our users re-using passwords that were leaked from this (fictive) webshop?"
   ]
  },
  {
   "cell_type": "code",
   "execution_count": null,
   "metadata": {
    "id": "FNJk-Ffhsds6"
   },
   "outputs": [],
   "source": [
    "!$(pwd)/john-1.9.0-jumbo-1/run/john --wordlist=word_files/webshop_leak.txt --format=opencl passwd.txt"
   ]
  },
  {
   "cell_type": "markdown",
   "metadata": {
    "id": "-LMbe8qdYrPb"
   },
   "source": [
    "Some people recommend using a random combination of words as passwords. Is this good advice?\n",
    "\n",
    "During the setup at the beginning of the notebook, we downloaded a dictionary of the 10000 most used words in the English language - **google-10000-english.txt**. For demonstrational purposes, we shortened that list to 1500 words and 100 words, respectively. The **combine.py** script concatenates N different words from a given word file. We pipe these into the password cracking program.\n",
    "\n",
    "Let's start with two words from the top 1500 list."
   ]
  },
  {
   "cell_type": "code",
   "execution_count": null,
   "metadata": {
    "id": "FUYh5DVp80yx"
   },
   "outputs": [],
   "source": [
    "!./combine.py 2 word_files/google-1500-english.txt | $(pwd)/john-1.9.0-jumbo-1/run/john --format=opencl -stdin passwd.txt"
   ]
  },
  {
   "cell_type": "markdown",
   "metadata": {
    "id": "dMuFJeTrZ4MJ"
   },
   "source": [
    "And combining four words from the top 100 list."
   ]
  },
  {
   "cell_type": "code",
   "execution_count": null,
   "metadata": {
    "id": "KrnT5_m0A8G3"
   },
   "outputs": [],
   "source": [
    "!./combine.py 4 word_files/google-100-english.txt | $(pwd)/john-1.9.0-jumbo-1/run/john --format=opencl -stdin passwd.txt"
   ]
  },
  {
   "cell_type": "markdown",
   "metadata": {
    "id": "JEQ8koKCZ94c"
   },
   "source": [
    "We can also check for specific patterns, like using numbers only. This drastically shrinks the parameter space we have to try. Cancel this cell after 5 mins or one match."
   ]
  },
  {
   "cell_type": "code",
   "execution_count": null,
   "metadata": {
    "id": "ZYvSNfM0APWl"
   },
   "outputs": [],
   "source": [
    "!$(pwd)/john-1.9.0-jumbo-1/run/john --incremental:digits --format=opencl passwd.txt"
   ]
  },
  {
   "cell_type": "markdown",
   "metadata": {
    "id": "sKRLGjfSanaV"
   },
   "source": [
    "Once we run out of ideas, we can brute-force passwords by trying a certain number of completely random characters. We start with three. Write down the runtime of this cell and compare it to the following ones. How much longer does it take once we add one more character?\n",
    "\n",
    "You will realize that completely random characters are significantly harder to crack than the passwords we found out above."
   ]
  },
  {
   "cell_type": "code",
   "execution_count": null,
   "metadata": {
    "id": "rJgRakbaBuHj"
   },
   "outputs": [],
   "source": [
    "!$(pwd)/john-1.9.0-jumbo-1/run/john --incremental:Short3 --format=opencl passwd.txt"
   ]
  },
  {
   "cell_type": "markdown",
   "metadata": {
    "id": "zyBITltXbMsX"
   },
   "source": [
    "Next up is four characters..."
   ]
  },
  {
   "cell_type": "code",
   "execution_count": null,
   "metadata": {
    "id": "_mxe6qa5Q_cK"
   },
   "outputs": [],
   "source": [
    "!$(pwd)/john-1.9.0-jumbo-1/run/john --incremental:Short4 --format=opencl passwd.txt"
   ]
  },
  {
   "cell_type": "markdown",
   "metadata": {
    "id": "gH0v5d0sbSZ6"
   },
   "source": [
    "... and five characters. After you find one password with this method, cancel the run by clicking on the square button on the left of that cell. Warning: this might take more than an hour. Grab a coffee, work on something else in the meantime. Check back here every 15 mins."
   ]
  },
  {
   "cell_type": "code",
   "execution_count": null,
   "metadata": {
    "id": "7KiMIAD01fSr"
   },
   "outputs": [],
   "source": [
    "!$(pwd)/john-1.9.0-jumbo-1/run/john --incremental:Short5 --format=opencl passwd.txt"
   ]
  },
  {
   "cell_type": "markdown",
   "metadata": {
    "id": "SskL29Wtb0io"
   },
   "source": [
    "Six characters is next. The runtime might terminate before you can find a password hash. Free, online GPU time has it's limits. Feel free to skip this cell or try to crack it locally on your own hardware."
   ]
  },
  {
   "cell_type": "code",
   "execution_count": null,
   "metadata": {
    "id": "2u6hi9gKUje3"
   },
   "outputs": [],
   "source": [
    "!$(pwd)/john-1.9.0-jumbo-1/run/john --incremental:Short6 --format=opencl passwd.txt"
   ]
  },
  {
   "cell_type": "markdown",
   "metadata": {
    "id": "EvRlFvKscJHL"
   },
   "source": [
    "Cracking seven random characters will probably not work in this environment anymore. Give it a shot if you feel adventurous and have a lot of time on your hands, or just believe me it would take a long time in this online notebook. For more powerful hardware, however, this will be a matter of seconds."
   ]
  },
  {
   "cell_type": "code",
   "execution_count": null,
   "metadata": {
    "id": "M0SXeAClcMkQ"
   },
   "outputs": [],
   "source": [
    "!$(pwd)/john-1.9.0-jumbo-1/run/john --incremental:Short7 --format=opencl passwd.txt"
   ]
  },
  {
   "cell_type": "markdown",
   "metadata": {
    "id": "ET4R-P8OdwIP"
   },
   "source": [
    "Let's review which user's passwords we could crack easily on (as good as) no-cost hardware. Check above with which approach you cracked these. What mistakes were made? What would you advise to change?"
   ]
  },
  {
   "cell_type": "code",
   "execution_count": null,
   "metadata": {
    "id": "QY9Gl5B1AGhP"
   },
   "outputs": [],
   "source": [
    "!$(pwd)/john-1.9.0-jumbo-1/run/john --show passwd.txt"
   ]
  },
  {
   "cell_type": "markdown",
   "metadata": {
    "id": "vzkeNAvKeG-u"
   },
   "source": [
    "Check out this [password cracking chart](https://i.imgur.com/e3mGIFY.png) made by Reddit user *u/HelmedHorror*. It gives a good impression of password length vs. effort to crack. This Google notebook can manage a few 100,000,000 password hasher per second, using the GPU runtime. Serious attackers have hardware many orders of magnitude faster at their disposal. And as time goes by, this hardware will get more affordable and more powerful."
   ]
  }
 ],
 "metadata": {
  "accelerator": "GPU",
  "colab": {
   "name": "Password.ipynb",
   "provenance": []
  },
  "kernelspec": {
   "display_name": "Python 3 (ipykernel)",
   "language": "python",
   "name": "python3"
  },
  "language_info": {
   "codemirror_mode": {
    "name": "ipython",
    "version": 3
   },
   "file_extension": ".py",
   "mimetype": "text/x-python",
   "name": "python",
   "nbconvert_exporter": "python",
   "pygments_lexer": "ipython3",
   "version": "3.8.1"
  }
 },
 "nbformat": 4,
 "nbformat_minor": 1
}
