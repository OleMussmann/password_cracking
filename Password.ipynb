{
  "nbformat": 4,
  "nbformat_minor": 0,
  "metadata": {
    "accelerator": "GPU",
    "colab": {
      "provenance": [],
      "gpuType": "T4"
    },
    "kernelspec": {
      "display_name": "Python 3",
      "name": "python3"
    },
    "language_info": {
      "codemirror_mode": {
        "name": "ipython",
        "version": 3
      },
      "file_extension": ".py",
      "mimetype": "text/x-python",
      "name": "python",
      "nbconvert_exporter": "python",
      "pygments_lexer": "ipython3",
      "version": "3.8.1"
    }
  },
  "cells": [
    {
      "cell_type": "markdown",
      "metadata": {
        "id": "t3Qf_KdkRErM"
      },
      "source": [
        "# Hashing / Password Cracking Exercise"
      ]
    },
    {
      "cell_type": "markdown",
      "metadata": {
        "id": "jONrLp5sRT2p"
      },
      "source": [
        "⚠️ **READ FIRST!** ⚠️\n",
        "\n",
        "Before you run any cells, switch to GPU runtime.\n",
        "\n",
        "Runtime -> Change Runtime type -> T4 GPU -> Save"
      ]
    },
    {
      "cell_type": "markdown",
      "metadata": {
        "id": "MDonhIaMRx68"
      },
      "source": [
        "## Set Up Your Hacker Environment"
      ]
    },
    {
      "cell_type": "code",
      "metadata": {
        "id": "f2WdsK2p84ae",
        "colab": {
          "base_uri": "https://localhost:8080/"
        },
        "outputId": "bbf7d960-dadc-4363-ff35-262d798bc267"
      },
      "source": [
        "cd /content/"
      ],
      "execution_count": 1,
      "outputs": [
        {
          "output_type": "stream",
          "name": "stdout",
          "text": [
            "/content\n"
          ]
        }
      ]
    },
    {
      "cell_type": "code",
      "metadata": {
        "id": "jZ7NrHWLOxNS",
        "colab": {
          "base_uri": "https://localhost:8080/"
        },
        "outputId": "c057af51-802c-4c65-ebf9-b6d386788fd1"
      },
      "source": [
        "!git clone https://github.com/OleMussmann/password_cracking.git"
      ],
      "execution_count": 2,
      "outputs": [
        {
          "output_type": "stream",
          "name": "stdout",
          "text": [
            "Cloning into 'password_cracking'...\n",
            "remote: Enumerating objects: 32, done.\u001b[K\n",
            "remote: Counting objects: 100% (32/32), done.\u001b[K\n",
            "remote: Compressing objects: 100% (21/21), done.\u001b[K\n",
            "remote: Total 32 (delta 9), reused 27 (delta 7), pack-reused 0\u001b[K\n",
            "Receiving objects: 100% (32/32), 41.43 KiB | 1.59 MiB/s, done.\n",
            "Resolving deltas: 100% (9/9), done.\n"
          ]
        }
      ]
    },
    {
      "cell_type": "code",
      "metadata": {
        "id": "t9XICVZdPA1u",
        "colab": {
          "base_uri": "https://localhost:8080/"
        },
        "outputId": "659b8984-a9bd-4994-86b9-1cef26965f64"
      },
      "source": [
        "cd password_cracking/"
      ],
      "execution_count": 3,
      "outputs": [
        {
          "output_type": "stream",
          "name": "stdout",
          "text": [
            "/content/password_cracking\n"
          ]
        }
      ]
    },
    {
      "cell_type": "code",
      "metadata": {
        "id": "dBAX6u-bPIUG",
        "colab": {
          "base_uri": "https://localhost:8080/"
        },
        "outputId": "e2ca6644-4f8d-4957-fa04-2333ee53a401"
      },
      "source": [
        "!./setup.sh"
      ],
      "execution_count": 4,
      "outputs": [
        {
          "output_type": "stream",
          "name": "stdout",
          "text": [
            "Downloading word files ...\n",
            "--2023-11-14 12:08:28--  https://resources.oreilly.com/live-training/enhanced-machine-learning-for-cybersecurity/raw/master/Data/google-10000-english.txt\n",
            "Resolving resources.oreilly.com (resources.oreilly.com)... 199.27.144.213, 199.27.144.212\n",
            "Connecting to resources.oreilly.com (resources.oreilly.com)|199.27.144.213|:443... connected.\n",
            "HTTP request sent, awaiting response... 200 OK\n",
            "Length: 75888 (74K) [text/plain]\n",
            "Saving to: ‘google-10000-english.txt’\n",
            "\n",
            "google-10000-englis 100%[===================>]  74.11K  --.-KB/s    in 0.1s    \n",
            "\n",
            "2023-11-14 12:08:29 (502 KB/s) - ‘google-10000-english.txt’ saved [75888/75888]\n",
            "\n",
            "--2023-11-14 12:08:29--  http://downloads.skullsecurity.org/passwords/rockyou.txt.bz2\n",
            "Resolving downloads.skullsecurity.org (downloads.skullsecurity.org)... 45.79.105.227\n",
            "Connecting to downloads.skullsecurity.org (downloads.skullsecurity.org)|45.79.105.227|:80... connected.\n",
            "HTTP request sent, awaiting response... 301 Moved Permanently\n",
            "Location: https://downloads.skullsecurity.org/passwords/rockyou.txt.bz2 [following]\n",
            "--2023-11-14 12:08:29--  https://downloads.skullsecurity.org/passwords/rockyou.txt.bz2\n",
            "Connecting to downloads.skullsecurity.org (downloads.skullsecurity.org)|45.79.105.227|:443... connected.\n",
            "HTTP request sent, awaiting response... 200 OK\n",
            "Length: 60498886 (58M) [application/octet-stream]\n",
            "Saving to: ‘rockyou.txt.bz2’\n",
            "\n",
            "rockyou.txt.bz2     100%[===================>]  57.70M  1.01MB/s    in 58s     \n",
            "\n",
            "2023-11-14 12:09:27 (1.00 MB/s) - ‘rockyou.txt.bz2’ saved [60498886/60498886]\n",
            "\n",
            "rm: cannot remove 'rockyou.txt.bz2': No such file or directory\n",
            "Installing tools and drivers\n",
            "Reading package lists... Done\n",
            "Building dependency tree... Done\n",
            "Reading state information... Done\n",
            "build-essential is already the newest version (12.9ubuntu3).\n",
            "nvidia-opencl-dev is already the newest version (11.5.1-1ubuntu1).\n",
            "git is already the newest version (1:2.34.1-1ubuntu1.10).\n",
            "libssl-dev is already the newest version (3.0.2-0ubuntu1.12).\n",
            "zlib1g-dev is already the newest version (1:1.2.11.dfsg-2ubuntu9.2).\n",
            "zlib1g-dev set to manually installed.\n",
            "The following additional packages will be installed:\n",
            "  cpp-12 dctrl-tools dkms fakeroot gcc-12 keyboard-configuration libasan8 libfakeroot libfontenc1\n",
            "  libgcc-12-dev libjansson4 liblocale-gettext-perl libnvidia-cfg1-545 libnvidia-common-545\n",
            "  libnvidia-compute-545 libnvidia-decode-545 libnvidia-encode-545 libnvidia-extra-545\n",
            "  libnvidia-fbc1-545 libnvidia-gl-545 libtsan2 libudev1 libxcvt0 libxfont2 libxkbfile1\n",
            "  nvidia-compute-utils-545 nvidia-dkms-545 nvidia-kernel-common-545 nvidia-kernel-source-545\n",
            "  nvidia-prime nvidia-settings nvidia-utils-545 python3-xkit screen-resolution-extra\n",
            "  systemd-hwe-hwdb udev x11-xkb-utils xcvt xfonts-base xfonts-encodings xfonts-utils xserver-common\n",
            "  xserver-xorg-core xserver-xorg-video-nvidia-545\n",
            "Suggested packages:\n",
            "  gcc-12-locales cpp-12-doc debtags menu gcc-12-multilib gcc-12-doc xfs | xserver xfonts-100dpi\n",
            "  | xfonts-75dpi xfonts-scalable\n",
            "Recommended packages:\n",
            "  libnvidia-compute-545:i386 libnvidia-decode-545:i386 libnvidia-encode-545:i386\n",
            "  libnvidia-fbc1-545:i386 libnvidia-gl-545:i386\n",
            "The following NEW packages will be installed:\n",
            "  cpp-12 dctrl-tools dkms fakeroot gcc-12 keyboard-configuration libasan8 libfakeroot libfontenc1\n",
            "  libgcc-12-dev libjansson4 liblocale-gettext-perl libnvidia-cfg1-545 libnvidia-common-545\n",
            "  libnvidia-compute-545 libnvidia-decode-545 libnvidia-encode-545 libnvidia-extra-545\n",
            "  libnvidia-fbc1-545 libnvidia-gl-545 libtsan2 libxcvt0 libxfont2 libxkbfile1\n",
            "  nvidia-compute-utils-545 nvidia-dkms-545 nvidia-driver-545 nvidia-kernel-common-545\n",
            "  nvidia-kernel-source-545 nvidia-prime nvidia-settings nvidia-utils-545 python3-xkit\n",
            "  screen-resolution-extra systemd-hwe-hwdb udev x11-xkb-utils xcvt xfonts-base xfonts-encodings\n",
            "  xfonts-utils xserver-common xserver-xorg-core xserver-xorg-video-nvidia-545\n",
            "The following packages will be upgraded:\n",
            "  libudev1\n",
            "1 upgraded, 44 newly installed, 0 to remove and 5 not upgraded.\n",
            "Need to get 338 MB of archives.\n",
            "After this operation, 928 MB of additional disk space will be used.\n",
            "Get:1 https://developer.download.nvidia.com/compute/cuda/repos/ubuntu2204/x86_64  libnvidia-cfg1-545 545.23.06-0ubuntu1 [102 kB]\n",
            "Get:2 https://developer.download.nvidia.com/compute/cuda/repos/ubuntu2204/x86_64  libnvidia-common-545 545.23.06-0ubuntu1 [19.4 kB]\n",
            "Get:3 https://developer.download.nvidia.com/compute/cuda/repos/ubuntu2204/x86_64  libnvidia-compute-545 545.23.06-0ubuntu1 [48.8 MB]\n",
            "Get:4 http://archive.ubuntu.com/ubuntu jammy/main amd64 liblocale-gettext-perl amd64 1.07-4build3 [17.1 kB]\n",
            "Get:5 http://archive.ubuntu.com/ubuntu jammy/main amd64 keyboard-configuration all 1.205ubuntu3 [206 kB]\n",
            "Get:6 https://developer.download.nvidia.com/compute/cuda/repos/ubuntu2204/x86_64  libnvidia-decode-545 545.23.06-0ubuntu1 [1,712 kB]\n",
            "Get:7 http://archive.ubuntu.com/ubuntu jammy-updates/main amd64 cpp-12 amd64 12.3.0-1ubuntu1~22.04 [10.8 MB]\n",
            "Get:8 https://developer.download.nvidia.com/compute/cuda/repos/ubuntu2204/x86_64  libnvidia-encode-545 545.23.06-0ubuntu1 [93.2 kB]\n",
            "Get:9 https://developer.download.nvidia.com/compute/cuda/repos/ubuntu2204/x86_64  libnvidia-extra-545 545.23.06-0ubuntu1 [260 kB]\n",
            "Get:10 https://developer.download.nvidia.com/compute/cuda/repos/ubuntu2204/x86_64  libnvidia-fbc1-545 545.23.06-0ubuntu1 [53.0 kB]\n",
            "Get:11 https://developer.download.nvidia.com/compute/cuda/repos/ubuntu2204/x86_64  libnvidia-gl-545 545.23.06-0ubuntu1 [150 MB]\n",
            "Get:12 http://archive.ubuntu.com/ubuntu jammy-updates/main amd64 libasan8 amd64 12.3.0-1ubuntu1~22.04 [2,442 kB]\n",
            "Get:13 http://archive.ubuntu.com/ubuntu jammy-updates/main amd64 libtsan2 amd64 12.3.0-1ubuntu1~22.04 [2,477 kB]\n",
            "Get:14 http://archive.ubuntu.com/ubuntu jammy-updates/main amd64 libgcc-12-dev amd64 12.3.0-1ubuntu1~22.04 [2,618 kB]\n",
            "Get:15 http://archive.ubuntu.com/ubuntu jammy-updates/main amd64 gcc-12 amd64 12.3.0-1ubuntu1~22.04 [21.7 MB]\n",
            "Get:16 http://archive.ubuntu.com/ubuntu jammy/main amd64 dctrl-tools amd64 2.24-3build2 [66.9 kB]\n",
            "Get:17 http://archive.ubuntu.com/ubuntu jammy-updates/main amd64 dkms all 2.8.7-2ubuntu2.2 [70.1 kB]\n",
            "Get:18 http://archive.ubuntu.com/ubuntu jammy-updates/main amd64 libudev1 amd64 249.11-0ubuntu3.11 [78.0 kB]\n",
            "Get:19 http://archive.ubuntu.com/ubuntu jammy-updates/main amd64 udev amd64 249.11-0ubuntu3.11 [1,557 kB]\n",
            "Get:20 http://archive.ubuntu.com/ubuntu jammy/main amd64 libjansson4 amd64 2.13.1-1.1build3 [32.4 kB]\n",
            "Get:21 https://developer.download.nvidia.com/compute/cuda/repos/ubuntu2204/x86_64  nvidia-compute-utils-545 545.23.06-0ubuntu1 [194 kB]\n",
            "Get:22 https://developer.download.nvidia.com/compute/cuda/repos/ubuntu2204/x86_64  nvidia-kernel-source-545 545.23.06-0ubuntu1 [43.4 MB]\n",
            "Get:23 http://archive.ubuntu.com/ubuntu jammy/main amd64 libfakeroot amd64 1.28-1ubuntu1 [31.5 kB]\n",
            "Get:24 http://archive.ubuntu.com/ubuntu jammy/main amd64 fakeroot amd64 1.28-1ubuntu1 [60.4 kB]\n",
            "Get:25 http://archive.ubuntu.com/ubuntu jammy/main amd64 libfontenc1 amd64 1:1.1.4-1build3 [14.7 kB]\n",
            "Get:26 http://archive.ubuntu.com/ubuntu jammy/main amd64 libxcvt0 amd64 0.1.1-3 [5,494 B]\n",
            "Get:27 http://archive.ubuntu.com/ubuntu jammy/main amd64 libxfont2 amd64 1:2.0.5-1build1 [94.5 kB]\n",
            "Get:28 http://archive.ubuntu.com/ubuntu jammy/main amd64 libxkbfile1 amd64 1:1.1.0-1build3 [71.8 kB]\n",
            "Get:29 https://developer.download.nvidia.com/compute/cuda/repos/ubuntu2204/x86_64  nvidia-kernel-common-545 545.23.06-0ubuntu1 [39.6 MB]\n",
            "Get:30 http://archive.ubuntu.com/ubuntu jammy/main amd64 x11-xkb-utils amd64 7.7+5build4 [172 kB]\n",
            "Get:31 http://archive.ubuntu.com/ubuntu jammy-updates/main amd64 xserver-common all 2:21.1.4-2ubuntu1.7~22.04.2 [28.1 kB]\n",
            "Get:32 http://archive.ubuntu.com/ubuntu jammy-updates/main amd64 xserver-xorg-core amd64 2:21.1.4-2ubuntu1.7~22.04.2 [1,477 kB]\n",
            "Get:33 http://archive.ubuntu.com/ubuntu jammy/main amd64 nvidia-prime all 0.8.17.1 [9,956 B]\n",
            "Get:34 https://developer.download.nvidia.com/compute/cuda/repos/ubuntu2204/x86_64  nvidia-dkms-545 545.23.06-0ubuntu1 [33.4 kB]\n",
            "Get:35 https://developer.download.nvidia.com/compute/cuda/repos/ubuntu2204/x86_64  nvidia-utils-545 545.23.06-0ubuntu1 [382 kB]\n",
            "Get:36 https://developer.download.nvidia.com/compute/cuda/repos/ubuntu2204/x86_64  xserver-xorg-video-nvidia-545 545.23.06-0ubuntu1 [1,524 kB]\n",
            "Get:37 https://developer.download.nvidia.com/compute/cuda/repos/ubuntu2204/x86_64  nvidia-driver-545 545.23.06-0ubuntu1 [479 kB]\n",
            "Get:38 https://developer.download.nvidia.com/compute/cuda/repos/ubuntu2204/x86_64  nvidia-settings 545.23.06-0ubuntu1 [946 kB]\n",
            "Get:39 http://archive.ubuntu.com/ubuntu jammy/main amd64 python3-xkit all 0.5.0ubuntu5 [18.5 kB]\n",
            "Get:40 http://archive.ubuntu.com/ubuntu jammy/main amd64 screen-resolution-extra all 0.18.2 [4,396 B]\n",
            "Get:41 http://archive.ubuntu.com/ubuntu jammy-updates/main amd64 systemd-hwe-hwdb all 249.11.3 [2,908 B]\n",
            "Get:42 http://archive.ubuntu.com/ubuntu jammy/main amd64 xcvt amd64 0.1.1-3 [7,140 B]\n",
            "Get:43 http://archive.ubuntu.com/ubuntu jammy/main amd64 xfonts-encodings all 1:1.0.5-0ubuntu2 [578 kB]\n",
            "Get:44 http://archive.ubuntu.com/ubuntu jammy/main amd64 xfonts-utils amd64 1:7.7+6build2 [94.6 kB]\n",
            "Get:45 http://archive.ubuntu.com/ubuntu jammy/main amd64 xfonts-base all 1:1.0.5 [5,896 kB]\n",
            "Fetched 338 MB in 4s (75.5 MB/s)\n",
            "Extracting templates from packages: 100%\n",
            "Preconfiguring packages ...\n",
            "Selecting previously unselected package liblocale-gettext-perl.\n",
            "(Reading database ... 120872 files and directories currently installed.)\n",
            "Preparing to unpack .../0-liblocale-gettext-perl_1.07-4build3_amd64.deb ...\n",
            "Unpacking liblocale-gettext-perl (1.07-4build3) ...\n",
            "Selecting previously unselected package keyboard-configuration.\n",
            "Preparing to unpack .../1-keyboard-configuration_1.205ubuntu3_all.deb ...\n",
            "Unpacking keyboard-configuration (1.205ubuntu3) ...\n",
            "Selecting previously unselected package cpp-12.\n",
            "Preparing to unpack .../2-cpp-12_12.3.0-1ubuntu1~22.04_amd64.deb ...\n",
            "Unpacking cpp-12 (12.3.0-1ubuntu1~22.04) ...\n",
            "Selecting previously unselected package libasan8:amd64.\n",
            "Preparing to unpack .../3-libasan8_12.3.0-1ubuntu1~22.04_amd64.deb ...\n",
            "Unpacking libasan8:amd64 (12.3.0-1ubuntu1~22.04) ...\n",
            "Selecting previously unselected package libtsan2:amd64.\n",
            "Preparing to unpack .../4-libtsan2_12.3.0-1ubuntu1~22.04_amd64.deb ...\n",
            "Unpacking libtsan2:amd64 (12.3.0-1ubuntu1~22.04) ...\n",
            "Selecting previously unselected package libgcc-12-dev:amd64.\n",
            "Preparing to unpack .../5-libgcc-12-dev_12.3.0-1ubuntu1~22.04_amd64.deb ...\n",
            "Unpacking libgcc-12-dev:amd64 (12.3.0-1ubuntu1~22.04) ...\n",
            "Selecting previously unselected package gcc-12.\n",
            "Preparing to unpack .../6-gcc-12_12.3.0-1ubuntu1~22.04_amd64.deb ...\n",
            "Unpacking gcc-12 (12.3.0-1ubuntu1~22.04) ...\n",
            "Selecting previously unselected package dctrl-tools.\n",
            "Preparing to unpack .../7-dctrl-tools_2.24-3build2_amd64.deb ...\n",
            "Unpacking dctrl-tools (2.24-3build2) ...\n",
            "Selecting previously unselected package dkms.\n",
            "Preparing to unpack .../8-dkms_2.8.7-2ubuntu2.2_all.deb ...\n",
            "Unpacking dkms (2.8.7-2ubuntu2.2) ...\n",
            "Preparing to unpack .../9-libudev1_249.11-0ubuntu3.11_amd64.deb ...\n",
            "Unpacking libudev1:amd64 (249.11-0ubuntu3.11) over (249.11-0ubuntu3.10) ...\n",
            "Setting up libudev1:amd64 (249.11-0ubuntu3.11) ...\n",
            "Selecting previously unselected package udev.\n",
            "(Reading database ... 121232 files and directories currently installed.)\n",
            "Preparing to unpack .../00-udev_249.11-0ubuntu3.11_amd64.deb ...\n",
            "Unpacking udev (249.11-0ubuntu3.11) ...\n",
            "Selecting previously unselected package libjansson4:amd64.\n",
            "Preparing to unpack .../01-libjansson4_2.13.1-1.1build3_amd64.deb ...\n",
            "Unpacking libjansson4:amd64 (2.13.1-1.1build3) ...\n",
            "Selecting previously unselected package libfakeroot:amd64.\n",
            "Preparing to unpack .../02-libfakeroot_1.28-1ubuntu1_amd64.deb ...\n",
            "Unpacking libfakeroot:amd64 (1.28-1ubuntu1) ...\n",
            "Selecting previously unselected package fakeroot.\n",
            "Preparing to unpack .../03-fakeroot_1.28-1ubuntu1_amd64.deb ...\n",
            "Unpacking fakeroot (1.28-1ubuntu1) ...\n",
            "Selecting previously unselected package libfontenc1:amd64.\n",
            "Preparing to unpack .../04-libfontenc1_1%3a1.1.4-1build3_amd64.deb ...\n",
            "Unpacking libfontenc1:amd64 (1:1.1.4-1build3) ...\n",
            "Selecting previously unselected package libnvidia-cfg1-545:amd64.\n",
            "Preparing to unpack .../05-libnvidia-cfg1-545_545.23.06-0ubuntu1_amd64.deb ...\n",
            "Unpacking libnvidia-cfg1-545:amd64 (545.23.06-0ubuntu1) ...\n",
            "Selecting previously unselected package libnvidia-common-545.\n",
            "Preparing to unpack .../06-libnvidia-common-545_545.23.06-0ubuntu1_all.deb ...\n",
            "Unpacking libnvidia-common-545 (545.23.06-0ubuntu1) ...\n",
            "Selecting previously unselected package libnvidia-compute-545:amd64.\n",
            "Preparing to unpack .../07-libnvidia-compute-545_545.23.06-0ubuntu1_amd64.deb ...\n",
            "Unpacking libnvidia-compute-545:amd64 (545.23.06-0ubuntu1) ...\n",
            "Selecting previously unselected package libnvidia-decode-545:amd64.\n",
            "Preparing to unpack .../08-libnvidia-decode-545_545.23.06-0ubuntu1_amd64.deb ...\n",
            "Unpacking libnvidia-decode-545:amd64 (545.23.06-0ubuntu1) ...\n",
            "Selecting previously unselected package libnvidia-encode-545:amd64.\n",
            "Preparing to unpack .../09-libnvidia-encode-545_545.23.06-0ubuntu1_amd64.deb ...\n",
            "Unpacking libnvidia-encode-545:amd64 (545.23.06-0ubuntu1) ...\n",
            "Selecting previously unselected package libnvidia-extra-545:amd64.\n",
            "Preparing to unpack .../10-libnvidia-extra-545_545.23.06-0ubuntu1_amd64.deb ...\n",
            "Unpacking libnvidia-extra-545:amd64 (545.23.06-0ubuntu1) ...\n",
            "Selecting previously unselected package libnvidia-fbc1-545:amd64.\n",
            "Preparing to unpack .../11-libnvidia-fbc1-545_545.23.06-0ubuntu1_amd64.deb ...\n",
            "Unpacking libnvidia-fbc1-545:amd64 (545.23.06-0ubuntu1) ...\n",
            "Selecting previously unselected package libnvidia-gl-545:amd64.\n",
            "Preparing to unpack .../12-libnvidia-gl-545_545.23.06-0ubuntu1_amd64.deb ...\n",
            "dpkg-query: no packages found matching libnvidia-gl-450\n",
            "Unpacking libnvidia-gl-545:amd64 (545.23.06-0ubuntu1) ...\n",
            "Selecting previously unselected package libxcvt0:amd64.\n",
            "Preparing to unpack .../13-libxcvt0_0.1.1-3_amd64.deb ...\n",
            "Unpacking libxcvt0:amd64 (0.1.1-3) ...\n",
            "Selecting previously unselected package libxfont2:amd64.\n",
            "Preparing to unpack .../14-libxfont2_1%3a2.0.5-1build1_amd64.deb ...\n",
            "Unpacking libxfont2:amd64 (1:2.0.5-1build1) ...\n",
            "Selecting previously unselected package libxkbfile1:amd64.\n",
            "Preparing to unpack .../15-libxkbfile1_1%3a1.1.0-1build3_amd64.deb ...\n",
            "Unpacking libxkbfile1:amd64 (1:1.1.0-1build3) ...\n",
            "Selecting previously unselected package nvidia-compute-utils-545.\n",
            "Preparing to unpack .../16-nvidia-compute-utils-545_545.23.06-0ubuntu1_amd64.deb ...\n",
            "Unpacking nvidia-compute-utils-545 (545.23.06-0ubuntu1) ...\n",
            "Selecting previously unselected package nvidia-kernel-source-545.\n",
            "Preparing to unpack .../17-nvidia-kernel-source-545_545.23.06-0ubuntu1_amd64.deb ...\n",
            "Unpacking nvidia-kernel-source-545 (545.23.06-0ubuntu1) ...\n",
            "Selecting previously unselected package nvidia-kernel-common-545.\n",
            "Preparing to unpack .../18-nvidia-kernel-common-545_545.23.06-0ubuntu1_amd64.deb ...\n",
            "Unpacking nvidia-kernel-common-545 (545.23.06-0ubuntu1) ...\n",
            "Selecting previously unselected package nvidia-dkms-545.\n",
            "Preparing to unpack .../19-nvidia-dkms-545_545.23.06-0ubuntu1_amd64.deb ...\n",
            "Unpacking nvidia-dkms-545 (545.23.06-0ubuntu1) ...\n",
            "Selecting previously unselected package nvidia-utils-545.\n",
            "Preparing to unpack .../20-nvidia-utils-545_545.23.06-0ubuntu1_amd64.deb ...\n",
            "Unpacking nvidia-utils-545 (545.23.06-0ubuntu1) ...\n",
            "Selecting previously unselected package x11-xkb-utils.\n",
            "Preparing to unpack .../21-x11-xkb-utils_7.7+5build4_amd64.deb ...\n",
            "Unpacking x11-xkb-utils (7.7+5build4) ...\n",
            "Selecting previously unselected package xserver-common.\n",
            "Preparing to unpack .../22-xserver-common_2%3a21.1.4-2ubuntu1.7~22.04.2_all.deb ...\n",
            "Unpacking xserver-common (2:21.1.4-2ubuntu1.7~22.04.2) ...\n",
            "Selecting previously unselected package xserver-xorg-core.\n",
            "Preparing to unpack .../23-xserver-xorg-core_2%3a21.1.4-2ubuntu1.7~22.04.2_amd64.deb ...\n",
            "Unpacking xserver-xorg-core (2:21.1.4-2ubuntu1.7~22.04.2) ...\n",
            "Selecting previously unselected package xserver-xorg-video-nvidia-545.\n",
            "Preparing to unpack .../24-xserver-xorg-video-nvidia-545_545.23.06-0ubuntu1_amd64.deb ...\n",
            "Unpacking xserver-xorg-video-nvidia-545 (545.23.06-0ubuntu1) ...\n",
            "Selecting previously unselected package nvidia-driver-545.\n",
            "Preparing to unpack .../25-nvidia-driver-545_545.23.06-0ubuntu1_amd64.deb ...\n",
            "Unpacking nvidia-driver-545 (545.23.06-0ubuntu1) ...\n",
            "Selecting previously unselected package nvidia-prime.\n",
            "Preparing to unpack .../26-nvidia-prime_0.8.17.1_all.deb ...\n",
            "Unpacking nvidia-prime (0.8.17.1) ...\n",
            "Selecting previously unselected package python3-xkit.\n",
            "Preparing to unpack .../27-python3-xkit_0.5.0ubuntu5_all.deb ...\n",
            "Unpacking python3-xkit (0.5.0ubuntu5) ...\n",
            "Selecting previously unselected package screen-resolution-extra.\n",
            "Preparing to unpack .../28-screen-resolution-extra_0.18.2_all.deb ...\n",
            "Unpacking screen-resolution-extra (0.18.2) ...\n",
            "Selecting previously unselected package nvidia-settings.\n",
            "Preparing to unpack .../29-nvidia-settings_545.23.06-0ubuntu1_amd64.deb ...\n",
            "Unpacking nvidia-settings (545.23.06-0ubuntu1) ...\n",
            "Selecting previously unselected package systemd-hwe-hwdb.\n",
            "Preparing to unpack .../30-systemd-hwe-hwdb_249.11.3_all.deb ...\n",
            "Unpacking systemd-hwe-hwdb (249.11.3) ...\n",
            "Selecting previously unselected package xcvt.\n",
            "Preparing to unpack .../31-xcvt_0.1.1-3_amd64.deb ...\n",
            "Unpacking xcvt (0.1.1-3) ...\n",
            "Selecting previously unselected package xfonts-encodings.\n",
            "Preparing to unpack .../32-xfonts-encodings_1%3a1.0.5-0ubuntu2_all.deb ...\n",
            "Unpacking xfonts-encodings (1:1.0.5-0ubuntu2) ...\n",
            "Selecting previously unselected package xfonts-utils.\n",
            "Preparing to unpack .../33-xfonts-utils_1%3a7.7+6build2_amd64.deb ...\n",
            "Unpacking xfonts-utils (1:7.7+6build2) ...\n",
            "Selecting previously unselected package xfonts-base.\n",
            "Preparing to unpack .../34-xfonts-base_1%3a1.0.5_all.deb ...\n",
            "Unpacking xfonts-base (1:1.0.5) ...\n",
            "Setting up cpp-12 (12.3.0-1ubuntu1~22.04) ...\n",
            "Setting up nvidia-prime (0.8.17.1) ...\n",
            "Setting up libnvidia-compute-545:amd64 (545.23.06-0ubuntu1) ...\n",
            "Setting up libnvidia-decode-545:amd64 (545.23.06-0ubuntu1) ...\n",
            "Setting up libfakeroot:amd64 (1.28-1ubuntu1) ...\n",
            "Setting up libjansson4:amd64 (2.13.1-1.1build3) ...\n",
            "Setting up libnvidia-extra-545:amd64 (545.23.06-0ubuntu1) ...\n",
            "Setting up fakeroot (1.28-1ubuntu1) ...\n",
            "update-alternatives: using /usr/bin/fakeroot-sysv to provide /usr/bin/fakeroot (fakeroot) in auto mode\n",
            "Setting up nvidia-kernel-source-545 (545.23.06-0ubuntu1) ...\n",
            "Setting up nvidia-utils-545 (545.23.06-0ubuntu1) ...\n",
            "Setting up libfontenc1:amd64 (1:1.1.4-1build3) ...\n",
            "Setting up libnvidia-common-545 (545.23.06-0ubuntu1) ...\n",
            "Setting up libnvidia-gl-545:amd64 (545.23.06-0ubuntu1) ...\n",
            "Setting up libnvidia-fbc1-545:amd64 (545.23.06-0ubuntu1) ...\n",
            "Setting up nvidia-compute-utils-545 (545.23.06-0ubuntu1) ...\n",
            "Warning: The home dir /nonexistent you specified can't be accessed: No such file or directory\n",
            "Adding system user `nvidia-persistenced' (UID 104) ...\n",
            "Adding new group `nvidia-persistenced' (GID 107) ...\n",
            "Adding new user `nvidia-persistenced' (UID 104) with group `nvidia-persistenced' ...\n",
            "Not creating home directory `/nonexistent'.\n",
            "Created symlink /etc/systemd/system/multi-user.target.wants/nvidia-persistenced.service → /lib/systemd/system/nvidia-persistenced.service.\n",
            "Setting up xfonts-encodings (1:1.0.5-0ubuntu2) ...\n",
            "Setting up udev (249.11-0ubuntu3.11) ...\n",
            "invoke-rc.d: could not determine current runlevel\n",
            "invoke-rc.d: policy-rc.d denied execution of start.\n",
            "Setting up systemd-hwe-hwdb (249.11.3) ...\n",
            "Setting up libnvidia-cfg1-545:amd64 (545.23.06-0ubuntu1) ...\n",
            "Setting up libasan8:amd64 (12.3.0-1ubuntu1~22.04) ...\n",
            "Setting up libxcvt0:amd64 (0.1.1-3) ...\n",
            "Setting up libnvidia-encode-545:amd64 (545.23.06-0ubuntu1) ...\n",
            "Setting up libxkbfile1:amd64 (1:1.1.0-1build3) ...\n",
            "Setting up libtsan2:amd64 (12.3.0-1ubuntu1~22.04) ...\n",
            "Setting up python3-xkit (0.5.0ubuntu5) ...\n",
            "Setting up nvidia-kernel-common-545 (545.23.06-0ubuntu1) ...\n",
            "Setting up libxfont2:amd64 (1:2.0.5-1build1) ...\n",
            "Setting up liblocale-gettext-perl (1.07-4build3) ...\n",
            "Setting up dctrl-tools (2.24-3build2) ...\n",
            "Setting up x11-xkb-utils (7.7+5build4) ...\n",
            "Setting up xfonts-utils (1:7.7+6build2) ...\n",
            "Setting up xcvt (0.1.1-3) ...\n",
            "Setting up xfonts-base (1:1.0.5) ...\n",
            "Setting up libgcc-12-dev:amd64 (12.3.0-1ubuntu1~22.04) ...\n",
            "Setting up screen-resolution-extra (0.18.2) ...\n",
            "Setting up nvidia-settings (545.23.06-0ubuntu1) ...\n",
            "Setting up xserver-common (2:21.1.4-2ubuntu1.7~22.04.2) ...\n",
            "Setting up keyboard-configuration (1.205ubuntu3) ...\n",
            "Your console font configuration will be updated the next time your system\n",
            "boots. If you want to update it now, run 'setupcon' from a virtual console.\n",
            "Setting up xserver-xorg-core (2:21.1.4-2ubuntu1.7~22.04.2) ...\n",
            "Setting up gcc-12 (12.3.0-1ubuntu1~22.04) ...\n",
            "Setting up xserver-xorg-video-nvidia-545 (545.23.06-0ubuntu1) ...\n",
            "Setting up dkms (2.8.7-2ubuntu2.2) ...\n",
            "Setting up nvidia-dkms-545 (545.23.06-0ubuntu1) ...\n",
            "\n",
            "A modprobe blacklist file has been created at /etc/modprobe.d to prevent Nouveau\n",
            "from loading. This can be reverted by deleting the following file:\n",
            "/etc/modprobe.d/nvidia-graphics-drivers.conf\n",
            "\n",
            "A new initrd image has also been created. To revert, please regenerate your\n",
            "initrd by running the following command after deleting the modprobe.d file:\n",
            "`/usr/sbin/initramfs -u`\n",
            "\n",
            "*****************************************************************************\n",
            "*** Reboot your computer and verify that the NVIDIA graphics driver can   ***\n",
            "*** be loaded.                                                            ***\n",
            "*****************************************************************************\n",
            "\n",
            "Loading new nvidia-545.23.06 DKMS files...\n",
            "It is likely that 5.15.120+ belongs to a chroot's host\n",
            "Building for 5.15.0-88-generic\n",
            "Building for architecture x86_64\n",
            "Building initial module for 5.15.0-88-generic\n",
            "Done.\n",
            "\n",
            "nvidia.ko:\n",
            "Running module version sanity check.\n",
            " - Original module\n",
            "   - No original module exists within this kernel\n",
            " - Installation\n",
            "   - Installing to /lib/modules/5.15.0-88-generic/updates/dkms/\n",
            "\n",
            "nvidia-modeset.ko:\n",
            "Running module version sanity check.\n",
            " - Original module\n",
            "   - No original module exists within this kernel\n",
            " - Installation\n",
            "   - Installing to /lib/modules/5.15.0-88-generic/updates/dkms/\n",
            "\n",
            "nvidia-drm.ko:\n",
            "Running module version sanity check.\n",
            " - Original module\n",
            "   - No original module exists within this kernel\n",
            " - Installation\n",
            "   - Installing to /lib/modules/5.15.0-88-generic/updates/dkms/\n",
            "\n",
            "nvidia-peermem.ko:\n",
            "Running module version sanity check.\n",
            " - Original module\n",
            "   - No original module exists within this kernel\n",
            " - Installation\n",
            "   - Installing to /lib/modules/5.15.0-88-generic/updates/dkms/\n",
            "\n",
            "nvidia-uvm.ko:\n",
            "Running module version sanity check.\n",
            " - Original module\n",
            "   - No original module exists within this kernel\n",
            " - Installation\n",
            "   - Installing to /lib/modules/5.15.0-88-generic/updates/dkms/\n",
            "\n",
            "depmod...\n",
            "Setting up nvidia-driver-545 (545.23.06-0ubuntu1) ...\n",
            "Processing triggers for libc-bin (2.35-0ubuntu3.4) ...\n",
            "/sbin/ldconfig.real: /usr/local/lib/libtbbbind.so.3 is not a symbolic link\n",
            "\n",
            "/sbin/ldconfig.real: /usr/local/lib/libtbbbind_2_0.so.3 is not a symbolic link\n",
            "\n",
            "/sbin/ldconfig.real: /usr/local/lib/libtbbmalloc.so.2 is not a symbolic link\n",
            "\n",
            "/sbin/ldconfig.real: /usr/local/lib/libtbb.so.12 is not a symbolic link\n",
            "\n",
            "/sbin/ldconfig.real: /usr/local/lib/libtbbmalloc_proxy.so.2 is not a symbolic link\n",
            "\n",
            "/sbin/ldconfig.real: /usr/local/lib/libtbbbind_2_5.so.3 is not a symbolic link\n",
            "\n",
            "Processing triggers for man-db (2.10.2-1) ...\n",
            "Processing triggers for dbus (1.12.20-2ubuntu4.1) ...\n",
            "Processing triggers for fontconfig (2.13.1-4.2ubuntu5) ...\n",
            "Downloading John The Ripper password cracker ...\n",
            "Cloning into 'john'...\n",
            "remote: Enumerating objects: 96920, done.\u001b[K\n",
            "remote: Counting objects: 100% (426/426), done.\u001b[K\n",
            "remote: Compressing objects: 100% (201/201), done.\u001b[K\n",
            "remote: Total 96920 (delta 232), reused 363 (delta 225), pack-reused 96494\u001b[K\n",
            "Receiving objects: 100% (96920/96920), 127.61 MiB | 26.31 MiB/s, done.\n",
            "Resolving deltas: 100% (76079/76079), done.\n",
            "Compiling John The Ripper password cracker ...\n",
            "checking build system type... x86_64-unknown-linux-gnu\n",
            "checking host system type... x86_64-unknown-linux-gnu\n",
            "checking whether to compile using MPI... no\n",
            "checking for gcc... gcc\n",
            "checking whether the C compiler works... yes\n",
            "checking for C compiler default output file name... a.out\n",
            "checking for suffix of executables... \n",
            "checking whether we are cross compiling... no\n",
            "checking for suffix of object files... o\n",
            "checking whether we are using the GNU C compiler... yes\n",
            "checking whether gcc accepts -g... yes\n",
            "checking for gcc option to accept ISO C89... none needed\n",
            "checking whether gcc understands -c and -o together... yes\n",
            "checking whether we are using the GNU C compiler... (cached) yes\n",
            "checking whether gcc accepts -g... (cached) yes\n",
            "checking for gcc option to accept ISO C89... (cached) none needed\n",
            "checking whether gcc understands -c and -o together... (cached) yes\n",
            "checking additional paths...  -L/usr/local/lib -I/usr/local/include\n",
            "checking arg check macro for -m with gcc... yes\n",
            "checking arg check macro for -Q with gcc... yes\n",
            "checking if gcc supports -funroll-loops... yes\n",
            "checking if gcc supports -Os... yes\n",
            "checking if gcc supports -finline-functions... yes\n",
            "checking if gcc supports -Og... yes\n",
            "checking if gcc supports -Wall... yes\n",
            "checking if gcc supports -Wno-stringop-truncation... yes\n",
            "checking if gcc supports -Wno-format-overflow... yes\n",
            "checking if gcc supports -Wno-format-truncation... yes\n",
            "checking if gcc supports -Wno-tautological-constant-out-of-range-compare... no\n",
            "checking if gcc supports -fno-omit-frame-pointer... yes\n",
            "checking if gcc supports --param allow-store-data-races=0... no\n",
            "checking if gcc supports -Wno-deprecated-declarations... yes\n",
            "checking if gcc supports -Wformat-extra-args... yes\n",
            "checking if gcc supports -Wunused-but-set-variable... yes\n",
            "checking if gcc supports -Qunused-arguments... no\n",
            "checking if gcc supports -Wdate-time... yes\n",
            "checking if gcc supports -m64... skipped\n",
            "checking for 32/64 bit... 64-bit\n",
            "checking additional paths (64 bit)...  -L/usr/local/lib64 -L/usr/lib64 -L/lib64\n",
            "checking whether ln -s works... yes\n",
            "checking for grep that handles long lines and -e... /usr/bin/grep\n",
            "checking for a sed that does not truncate output... /usr/bin/sed\n",
            "checking for GNU make... make\n",
            "checking whether make sets $(MAKE)... yes\n",
            "checking how to run the C preprocessor... gcc -E\n",
            "checking for a thread-safe mkdir -p... /usr/bin/mkdir -p\n",
            "checking for sort... /usr/bin/sort\n",
            "checking for find... /usr/bin/find\n",
            "checking for perl... /usr/bin/perl\n",
            "checking for ar... /usr/bin/ar\n",
            "checking for strip... strip\n",
            "checking for strings... strings\n",
            "checking for pkg-config... /usr/bin/pkg-config\n",
            "checking pkg-config is at least version 0.9.0... yes\n",
            "checking if pkg-config will be used... no\n",
            "checking for egrep... /usr/bin/grep -E\n",
            "checking for ANSI C header files... yes\n",
            "checking for sys/types.h... yes\n",
            "checking for sys/stat.h... yes\n",
            "checking for stdlib.h... yes\n",
            "checking for string.h... yes\n",
            "checking for memory.h... yes\n",
            "checking for strings.h... yes\n",
            "checking for inttypes.h... yes\n",
            "checking for stdint.h... yes\n",
            "checking for unistd.h... yes\n",
            "checking size of short... 2\n",
            "checking size of int... 4\n",
            "checking size of long... 8\n",
            "checking size of long long... 8\n",
            "checking size of wchar_t... 4\n",
            "checking size of int *... 8\n",
            "checking size of void *... 8\n",
            "checking for extra ASFLAGS... None needed\n",
            "checking for X32 ABI... no\n",
            "checking special compiler flags... Intel x86\n",
            "configure: Testing build host's native CPU features\n",
            "checking for MMX... yes\n",
            "checking for SSE2... yes\n",
            "checking for SSSE3... yes\n",
            "checking for SSE4.1... yes\n",
            "checking for SSE4.2... yes\n",
            "checking for AVX... yes\n",
            "checking for XOP... no\n",
            "checking for AVX2... yes\n",
            "checking for AVX512F... no\n",
            "checking for arch.h alternative... x86-64.h\n",
            "checking for byte ordering according to target triple... little\n",
            "checking supplied paths for OpenSSL...  \n",
            "checking additional paths for OpenSSL... none\n",
            "checking openssl/opensslv.h usability... yes\n",
            "checking openssl/opensslv.h presence... yes\n",
            "checking for openssl/opensslv.h... yes\n",
            "checking for SSL_CTX_new in -lssl... yes\n",
            "checking for MD5_Update in -lcrypto... yes\n",
            "checking for (non-free) ClamAV unrar code... yes\n",
            "checking for sqrt in -lm... yes\n",
            "checking for clock_gettime in -lrt... yes\n",
            "checking for deflate in -lz... yes\n",
            "checking for library containing crypt... -lcrypt\n",
            "checking gmp.h usability... no\n",
            "checking gmp.h presence... no\n",
            "checking for gmp.h... no\n",
            "checking gmp/gmp.h usability... no\n",
            "checking gmp/gmp.h presence... no\n",
            "checking for gmp/gmp.h... no\n",
            "checking skey.h usability... no\n",
            "checking skey.h presence... no\n",
            "checking for skey.h... no\n",
            "checking for S/Key... using our own code\n",
            "checking bzlib.h usability... yes\n",
            "checking bzlib.h presence... yes\n",
            "checking for bzlib.h... yes\n",
            "checking for main in -lbz2... yes\n",
            "checking for main in -lkernel32... no\n",
            "checking for dlopen in -ldl... yes\n",
            "checking intrin.h usability... no\n",
            "checking intrin.h presence... no\n",
            "checking for intrin.h... no\n",
            "checking openssl/cmac.h usability... yes\n",
            "checking openssl/cmac.h presence... yes\n",
            "checking for openssl/cmac.h... yes\n",
            "configure: rexgen check not enabled\n",
            "checking pcap.h usability... no\n",
            "checking pcap.h presence... no\n",
            "checking for pcap.h... no\n",
            "checking pcap/pcap.h usability... no\n",
            "checking pcap/pcap.h presence... no\n",
            "checking for pcap/pcap.h... no\n",
            "checking for pcap.h... (cached) no\n",
            "checking for pcap/pcap.h... (cached) no\n",
            "checking whether time.h and sys/time.h may both be included... yes\n",
            "checking whether string.h and strings.h may both be included... yes\n",
            "checking for SHA256... yes\n",
            "checking for WHIRLPOOL... yes\n",
            "checking for RIPEMD160... yes\n",
            "checking for AES_encrypt... yes\n",
            "checking for DSA_get0_pqg... yes\n",
            "checking for gcc option to support OpenMP... -fopenmp\n",
            "checking additional paths for OpenCL... none\n",
            "checking if compiler needs -Werror to reject unknown flags... no\n",
            "checking for the pthreads library -lpthreads... no\n",
            "checking whether pthreads work without any flags... yes\n",
            "checking for joinable pthread attribute... PTHREAD_CREATE_JOINABLE\n",
            "checking if more special flags are required for pthreads... no\n",
            "checking for PTHREAD_PRIO_INHERIT... yes\n",
            "checking whether we are using the Microsoft C compiler... no\n",
            "checking CL/cl.h usability... yes\n",
            "checking CL/cl.h presence... yes\n",
            "checking for CL/cl.h... yes\n",
            "checking OpenCL/cl.h usability... no\n",
            "checking OpenCL/cl.h presence... no\n",
            "checking for OpenCL/cl.h... no\n",
            "checking windows.h usability... no\n",
            "checking windows.h presence... no\n",
            "checking for windows.h... no\n",
            "checking for OpenCL library... -lOpenCL\n",
            "checking arpa/inet.h usability... yes\n",
            "checking arpa/inet.h presence... yes\n",
            "checking for arpa/inet.h... yes\n",
            "checking crypt.h usability... yes\n",
            "checking crypt.h presence... yes\n",
            "checking for crypt.h... yes\n",
            "checking dirent.h usability... yes\n",
            "checking dirent.h presence... yes\n",
            "checking for dirent.h... yes\n",
            "checking limits.h usability... yes\n",
            "checking limits.h presence... yes\n",
            "checking for limits.h... yes\n",
            "checking locale.h usability... yes\n",
            "checking locale.h presence... yes\n",
            "checking for locale.h... yes\n",
            "checking malloc.h usability... yes\n",
            "checking malloc.h presence... yes\n",
            "checking for malloc.h... yes\n",
            "checking net/ethernet.h usability... yes\n",
            "checking net/ethernet.h presence... yes\n",
            "checking for net/ethernet.h... yes\n",
            "checking netdb.h usability... yes\n",
            "checking netdb.h presence... yes\n",
            "checking for netdb.h... yes\n",
            "checking netinet/in.h usability... yes\n",
            "checking netinet/in.h presence... yes\n",
            "checking for netinet/in.h... yes\n",
            "checking netinet/in_systm.h usability... yes\n",
            "checking netinet/in_systm.h presence... yes\n",
            "checking for netinet/in_systm.h... yes\n",
            "checking for string.h... (cached) yes\n",
            "checking for strings.h... (cached) yes\n",
            "checking sys/ethernet.h usability... no\n",
            "checking sys/ethernet.h presence... no\n",
            "checking for sys/ethernet.h... no\n",
            "checking sys/file.h usability... yes\n",
            "checking sys/file.h presence... yes\n",
            "checking for sys/file.h... yes\n",
            "checking sys/param.h usability... yes\n",
            "checking sys/param.h presence... yes\n",
            "checking for sys/param.h... yes\n",
            "checking sys/socket.h usability... yes\n",
            "checking sys/socket.h presence... yes\n",
            "checking for sys/socket.h... yes\n",
            "checking sys/time.h usability... yes\n",
            "checking sys/time.h presence... yes\n",
            "checking for sys/time.h... yes\n",
            "checking sys/times.h usability... yes\n",
            "checking sys/times.h presence... yes\n",
            "checking for sys/times.h... yes\n",
            "checking for sys/types.h... (cached) yes\n",
            "checking termios.h usability... yes\n",
            "checking termios.h presence... yes\n",
            "checking for termios.h... yes\n",
            "checking for unistd.h... (cached) yes\n",
            "checking unixlib/local.h usability... no\n",
            "checking unixlib/local.h presence... no\n",
            "checking for unixlib/local.h... no\n",
            "checking for windows.h... (cached) no\n",
            "checking for net/if.h... yes\n",
            "checking for net/if_arp.h... yes\n",
            "checking for netinet/if_ether.h... yes\n",
            "checking for netinet/ip.h... yes\n",
            "checking for stdbool.h that conforms to C99... yes\n",
            "checking for _Bool... yes\n",
            "checking for inline... inline\n",
            "checking for int32_t... yes\n",
            "checking for int64_t... yes\n",
            "checking for off_t... yes\n",
            "checking for size_t... yes\n",
            "checking for ssize_t... yes\n",
            "checking for uint16_t... yes\n",
            "checking for uint32_t... yes\n",
            "checking for uint64_t... yes\n",
            "checking for uint8_t... yes\n",
            "checking for ptrdiff_t... yes\n",
            "checking for int128... no\n",
            "checking for __int128... yes\n",
            "checking for __int128_t... yes\n",
            "checking for error_at_line... yes\n",
            "checking for pid_t... yes\n",
            "checking vfork.h usability... no\n",
            "checking vfork.h presence... no\n",
            "checking for vfork.h... no\n",
            "checking for fork... yes\n",
            "checking for vfork... yes\n",
            "checking for working fork... yes\n",
            "checking for working vfork... (cached) yes\n",
            "checking for fseek64... no\n",
            "checking for fseeko... yes\n",
            "checking for fseeko64... yes\n",
            "checking for _fseeki64... no\n",
            "checking for lseek64... yes\n",
            "checking for lseek... yes\n",
            "checking for ftell64... no\n",
            "checking for ftello... yes\n",
            "checking for ftello64... yes\n",
            "checking for _ftelli64... no\n",
            "checking for fopen64... yes\n",
            "checking for _fopen64... no\n",
            "checking for memmem... yes\n",
            "checking for mmap... yes\n",
            "checking for sleep... yes\n",
            "checking for setenv... yes\n",
            "checking for putenv... yes\n",
            "checking for strcasecmp... yes\n",
            "checking for strncasecmp... yes\n",
            "checking for stricmp... no\n",
            "checking for strcmpi... no\n",
            "checking for _stricmp... no\n",
            "checking for _strcmpi... no\n",
            "checking for strnicmp... no\n",
            "checking for strncmpi... no\n",
            "checking for _strnicmp... no\n",
            "checking for _strncmpi... no\n",
            "checking for strnlen... yes\n",
            "checking for strlwr... no\n",
            "checking for strupr... no\n",
            "checking for strrev... no\n",
            "checking for atoll... yes\n",
            "checking for _atoi64... no\n",
            "checking for snprintf... yes\n",
            "checking for sprintf_s... no\n",
            "checking for strcasestr... yes\n",
            "checking for clGetKernelArgInfo... yes\n",
            "checking for posix_memalign... yes\n",
            "checking for yasm that supports \"-g dwarf2 -f elf64\"... \n",
            "checking for OS-specific feature macros needed...  -D_POSIX_SOURCE -D_GNU_SOURCE -D_XOPEN_SOURCE=600\n",
            "checking size of size_t... 8\n",
            "checking size of off_t... 8\n",
            "configure: Fuzz check disabled\n",
            "configure: Fuzzing (using libFuzzer) check disabled\n",
            "configure: creating *_plug.c and OpenCL object rules\n",
            "configure: creating Makefile dependencies\n",
            "configure: creating ./john_build_rule.h\n",
            "configure: creating ./config.status\n",
            "config.status: creating Makefile\n",
            "config.status: creating aes/Makefile\n",
            "config.status: creating aes/aesni/Makefile\n",
            "config.status: creating aes/openssl/Makefile\n",
            "config.status: creating secp256k1/Makefile\n",
            "config.status: creating ed25519-donna/Makefile\n",
            "config.status: creating poly1305-donna/Makefile\n",
            "config.status: creating autoconfig.h\n",
            "config.status: linking x86-64.h to arch.h\n",
            "config.status: executing default commands\n",
            "configure: creating ./fmt_externs.h\n",
            "configure: creating ./fmt_registers.h\n",
            "\n",
            "Configured for building John the Ripper jumbo:\n",
            "\n",
            "Target CPU ......................................... x86_64 AVX2, 64-bit LE\n",
            "AES-NI support ..................................... depends on OpenSSL\n",
            "Target OS .......................................... linux-gnu\n",
            "Cross compiling .................................... no\n",
            "Legacy arch header ................................. x86-64.h\n",
            "\n",
            "Optional libraries/features found:\n",
            "Memory map (share/page large files) ................ yes\n",
            "Fork support ....................................... yes\n",
            "OpenMP support ..................................... yes (not for fast formats)\n",
            "OpenCL support ..................................... yes\n",
            "Generic crypt(3) format ............................ yes\n",
            "OpenSSL (many additional formats) .................. yes\n",
            "libgmp (PRINCE mode and faster SRP formats) ........ no\n",
            "128-bit integer (faster PRINCE mode) ............... yes\n",
            "libz (7z, pkzip and some other formats) ............ yes\n",
            "libbz2 (7z and gpg2john bz2 support) ............... yes\n",
            "libpcap (vncpcap2john and SIPdump) ................. no\n",
            "Non-free unrar code (complete RAR support) ......... yes\n",
            "librexgen (regex mode, see doc/README.librexgen) ... no\n",
            "OpenMPI support (default disabled) ................. no\n",
            "Experimental code (default disabled) ............... no\n",
            "ZTEX USB-FPGA module 1.15y support ................. no\n",
            "\n",
            "Install missing libraries to get any needed features that were omitted.\n",
            "\n",
            "Configure finished.  Now \"make -s clean && make -sj4\" to compile.\n",
            "/usr/bin/ar: creating aes.a\n",
            "/usr/bin/ar: creating secp256k1.a\n",
            "/usr/bin/ar: creating ed25519-donna.a\n",
            "/usr/bin/ar: creating poly1305-donna.a\n",
            "\n",
            "Make process completed.\n",
            "Probing GPU for John The Ripper ...\n",
            "Platform #0 name: NVIDIA CUDA, version: OpenCL 3.0 CUDA 12.0.151\n",
            "    Device #0 (1) name:     Tesla T4\n",
            "    Device vendor:          NVIDIA Corporation\n",
            "    Device type:            GPU (LE)\n",
            "    Device version:         OpenCL 3.0 CUDA\n",
            "    OpenCL version support: OpenCL C 1.2 \n",
            "    Driver version:         525.105.17 [recommended]\n",
            "    Native vector widths:   char 1, short 1, int 1, long 1\n",
            "    Preferred vector width: char 1, short 1, int 1, long 1\n",
            "    Global Memory:          15101 MiB (ECC)\n",
            "    Global Memory Cache:    1280 KiB\n",
            "    Local Memory:           48 KiB (Local)\n",
            "    Constant Buffer size:   64 KiB\n",
            "    Max memory alloc. size: 3775 MiB\n",
            "    Max clock (MHz):        1590\n",
            "    Profiling timer res.:   1000 ns\n",
            "    Max Work Group Size:    1024\n",
            "    Parallel compute cores: 40\n",
            "    CUDA INT32 cores:       2560  (40 x 64)\n",
            "    Speed index:            4070400\n",
            "    Warp size:              32\n",
            "    Max. GPRs/work-group:   65536\n",
            "    Compute capability:     7.5 (sm_75)\n",
            "    Kernel exec. timeout:   no\n",
            "    PCI device topology:    00:00.4\n",
            "\n"
          ]
        }
      ]
    },
    {
      "cell_type": "markdown",
      "metadata": {
        "id": "I0p7UDcRR09t"
      },
      "source": [
        "Check that the output of the above cell contains `Device type: GPU`. Otherwise the following calculations will take _much_ longer. If it doesn't run on GPU, please re-check that you have selected the GPU runtime."
      ]
    },
    {
      "cell_type": "markdown",
      "source": [
        "## Assignment: Who is that Pokemon?"
      ],
      "metadata": {
        "id": "NRxr2JmxgXYL"
      }
    },
    {
      "cell_type": "markdown",
      "source": [
        "You're on your way to become a Pokémon Master, and so you want to unravel all secrets about Pokémon.\n",
        "But like in every episode, even in this special episode of **Pokémon: ESTP Special**, you're confronted with the dreadful question: *Who is that Pokémon?*.\n",
        "\n",
        "In this assignment, you're presented with the *hash* of a mystery Pokémon and a list of all 151 Pokémons from the original first generation. Find out what mystery Pokémon is hidden behind this hash in this episode of **Pokémon: ESTP Special**!"
      ],
      "metadata": {
        "id": "nm9rp76Ggg9A"
      }
    },
    {
      "cell_type": "code",
      "source": [
        "# ==============\n",
        "# Notebook setup\n",
        "# ==============\n",
        "\n",
        "import os\n",
        "from hashlib import sha256\n",
        "\n",
        "mystery_pokemon = \"989f9c3f8054c8ff71c8be644451f6e54fb8807615120de7c9d6e5e6e17a6bdc\"\n",
        "\n",
        "pokemons = ['bulbasaur', 'ivysaur', 'venusaur', 'charmander', 'charmeleon', 'charizard', 'squirtle', 'wartortle', 'blastoise', 'caterpie', 'metapod', 'butterfree', 'weedle', 'kakuna', 'beedrill', 'pidgey', 'pidgeotto', 'pidgeot', 'rattata', 'raticate', 'spearow', 'fearow', 'ekans', 'arbok', 'pikachu', 'raichu', 'sandshrew', 'sandslash', 'nidoran_f', 'nidorina', 'nidoqueen', 'nidoran_m', 'nidorino', 'nidoking', 'clefairy', 'clefable', 'vulpix', 'ninetales', 'jigglypuff', 'wigglytuff', 'zubat', 'golbat', 'oddish', 'gloom', 'vileplume', 'paras', 'parasect', 'venonat', 'venomoth', 'diglett', 'dugtrio', 'meowth', 'persian', 'psyduck', 'golduck', 'mankey', 'primeape', 'growlithe', 'arcanine', 'poliwag', 'poliwhirl', 'poliwrath', 'abra', 'kadabra', 'alakazam', 'machop', 'machoke', 'machamp', 'bellsprout', 'weepinbell', 'victreebel', 'tentacool', 'tentacruel', 'geodude', 'graveler', 'golem', 'ponyta', 'rapidash', 'slowpoke', 'slowbro', 'magnemite', 'magneton', \"farfetch'd\", 'doduo', 'dodrio', 'seel', 'dewgong', 'grimer', 'muk', 'shellder', 'cloyster', 'gastly', 'haunter', 'gengar', 'onix', 'drowzee', 'hypno', 'krabby', 'kingler', 'voltorb', 'electrode', 'exeggcute', 'exeggutor', 'cubone', 'marowak', 'hitmonlee', 'hitmonchan', 'lickitung', 'koffing', 'weezing', 'rhyhorn', 'rhydon', 'chansey', 'tangela', 'kangaskhan', 'horsea', 'seadra', 'goldeen', 'seaking', 'staryu', 'starmie', 'mr.mime', 'scyther', 'jynx', 'electabuzz', 'magmar', 'pinsir', 'tauros', 'magikarp', 'gyarados', 'lapras', 'ditto', 'eevee', 'vaporeon', 'jolteon', 'flareon', 'porygon', 'omanyte', 'omastar', 'kabuto', 'kabutops', 'aerodactyl', 'snorlax', 'articuno', 'zapdos', 'moltres', 'dratini', 'dragonair', 'dragonite', 'mewtwo', 'mew']"
      ],
      "metadata": {
        "id": "nvef_bmnhA_p"
      },
      "execution_count": 5,
      "outputs": []
    },
    {
      "cell_type": "markdown",
      "source": [
        "Variable `mystery_pokemon` stores the *hash* of the mystery Pokémon. The hash\n",
        "\n",
        "*   List item\n",
        "*   List item\n",
        "\n",
        "function that was used is the SHA-256 algorithm.\n",
        "\n",
        "*Find out which Pokémon belongs to this hash value!*"
      ],
      "metadata": {
        "id": "MYm-ll74hHCx"
      }
    },
    {
      "cell_type": "code",
      "source": [
        "mystery_pokemon"
      ],
      "metadata": {
        "colab": {
          "base_uri": "https://localhost:8080/",
          "height": 35
        },
        "id": "rJC-rb8XhIo5",
        "outputId": "c0918f73-6fa3-497d-d7f9-768f83415ece"
      },
      "execution_count": 6,
      "outputs": [
        {
          "output_type": "execute_result",
          "data": {
            "text/plain": [
              "'989f9c3f8054c8ff71c8be644451f6e54fb8807615120de7c9d6e5e6e17a6bdc'"
            ],
            "application/vnd.google.colaboratory.intrinsic+json": {
              "type": "string"
            }
          },
          "metadata": {},
          "execution_count": 6
        }
      ]
    },
    {
      "cell_type": "markdown",
      "source": [
        "Variable `pokemons` stores the complete list of all 151 Pokémons of generation 1. The first 10 pokemons of the list are shown below."
      ],
      "metadata": {
        "id": "Mex2s20AhSjq"
      }
    },
    {
      "cell_type": "code",
      "source": [
        "pokemons[:10]"
      ],
      "metadata": {
        "colab": {
          "base_uri": "https://localhost:8080/"
        },
        "id": "mYo5WjDahTnn",
        "outputId": "b45bf13b-0259-4c39-c23a-14569b774ed0"
      },
      "execution_count": 7,
      "outputs": [
        {
          "output_type": "execute_result",
          "data": {
            "text/plain": [
              "['bulbasaur',\n",
              " 'ivysaur',\n",
              " 'venusaur',\n",
              " 'charmander',\n",
              " 'charmeleon',\n",
              " 'charizard',\n",
              " 'squirtle',\n",
              " 'wartortle',\n",
              " 'blastoise',\n",
              " 'caterpie']"
            ]
          },
          "metadata": {},
          "execution_count": 7
        }
      ]
    },
    {
      "cell_type": "markdown",
      "source": [
        "The function `hash_256` below features the `sha_256` algorithm.\n",
        "Use it to hash any string (or Pokémon) you like as shown with the print statement."
      ],
      "metadata": {
        "id": "US7U_rf7pYrS"
      }
    },
    {
      "cell_type": "code",
      "source": [
        "def hash_256(x):\n",
        "  ret = x.encode(\"ascii\")\n",
        "  ret = sha256(ret)\n",
        "  ret = ret.hexdigest()\n",
        "  return ret\n",
        "\n",
        "print(hash_256(\"pikachu\"))"
      ],
      "metadata": {
        "colab": {
          "base_uri": "https://localhost:8080/"
        },
        "id": "o5pvj-hjpZeT",
        "outputId": "99534b38-8ed3-4761-83a2-641d19746949"
      },
      "execution_count": 8,
      "outputs": [
        {
          "output_type": "stream",
          "name": "stdout",
          "text": [
            "43999461d22f67840fcd9b8824293eaa4f18146e57b2c651bcd925e3b3e4e429\n"
          ]
        }
      ]
    },
    {
      "cell_type": "markdown",
      "source": [
        "## Exercise 1\n",
        "Now that you're presented with the full list of all Pokémons in `pokemons` and a hash function `hash_256` to hash a string, find the name of the hashed mystery Pokémon in the code segment below. Call an instructor to verify your answer if you've found the Pokémon!"
      ],
      "metadata": {
        "id": "cofBeYLZsMi1"
      }
    },
    {
      "cell_type": "code",
      "source": [
        "######################\n",
        "# Enter your code here\n",
        "#####################)"
      ],
      "metadata": {
        "id": "0cp--_2VsWh-"
      },
      "execution_count": null,
      "outputs": []
    },
    {
      "cell_type": "markdown",
      "source": [
        "## Exercise 2\n",
        "\n",
        "Oh no, your friend Janelle got hacked on her PC! It turns out that her password to her Pokémon box ``pikachu7`` wasn't safe enough... Since then, she has created a new password but you're not sure about the safety of her password. Try to figure out what her password is from its hash! (Hint: her favorite number is ``7``)"
      ],
      "metadata": {
        "id": "Fgylp502sb4U"
      }
    },
    {
      "cell_type": "code",
      "source": [
        "password_janelle = \"482cf0370632b31636f93e18fa7a455a1c6520c1f152bc4ce25ebb69b11b45f3\""
      ],
      "metadata": {
        "id": "oTZLg0R_sdLl"
      },
      "execution_count": 9,
      "outputs": []
    },
    {
      "cell_type": "code",
      "source": [
        "######################\n",
        "# Enter your code here\n",
        "######################"
      ],
      "metadata": {
        "id": "FlFHmZ1FsgrF"
      },
      "execution_count": null,
      "outputs": []
    },
    {
      "cell_type": "markdown",
      "source": [
        "# GPU-Assisted Password Cracking\n",
        "\n",
        "Now we channel our inner hacker and leverage the massively parallel capabilities of a GPU to crack passwords at scale. Google Colab can attach a GPU to the runtime of this notebook. So put on your black hoodie and let's go!\n",
        "\n",
        "![hacker-5471975_640.png](data:image/png;base64,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)"
      ],
      "metadata": {
        "id": "EAUfQ9nnpdgV"
      }
    },
    {
      "cell_type": "markdown",
      "metadata": {
        "id": "n4x8MrTDSdzt"
      },
      "source": [
        "## Crack passwords\n",
        "\n",
        "Run the following cell for **5 mins** and then cancel it by clicking on the square button on its left. This will use a generic standard approach to find passwords:\n",
        "\n",
        "\n",
        "1.   Try a list of most-used passwords\n",
        "2.   Try random characters\n",
        "\n",
        "Note that variations like appending numbers or replacing characters (changing O to 0, 1 to !, S to $) can be done automatically. The output will contain cracked passwords and their username like so:\n",
        "```\n",
        "password    (username)\n",
        "```\n",
        "\n",
        "\n"
      ]
    },
    {
      "cell_type": "code",
      "metadata": {
        "id": "5go80KjXSRv3",
        "colab": {
          "base_uri": "https://localhost:8080/"
        },
        "outputId": "2b82ebd0-276e-4ce1-da6b-a1e235885576"
      },
      "source": [
        "!$(pwd)/john/run/john --format=opencl passwd.txt"
      ],
      "execution_count": 10,
      "outputs": [
        {
          "output_type": "stream",
          "name": "stdout",
          "text": [
            "Device 1: Tesla T4\n",
            "Using default input encoding: UTF-8\n",
            "Loaded 22 password hashes with 22 different salts (md5crypt-opencl, crypt(3) $1$ [MD5 OpenCL])\n",
            "/\b-\b\\\b|\b/\b-\b\\\b|\b/\b-\b\\\b|\b/\b-\b\\\b|\b/\b-\b\\\b|\b/\b-\b\\\b|\b/\b-\b\\\b|\b/\b-\b\\\b|\b/\b-\b\\\b|\b/\b-\b\\\b|\b/\b-\b\\\b|\b/\b-\b\\\b|\b/\b-\b\\\b|\b/\b-\b\\\b|\b/\b-\b\\\b|\b/\b-\b\\\b|\b/\b-\b\\\b|\b/\b-\b\\\b|\b/\b-\b\\\b|\b/\b-\b\\\b|\b/\b \b-\b\\\b|\b/\b \b-\b\\\b|\b/\b \b-\b\\\b|\b/\b \b-\b\\\b|\b/\b \b-\b\\\b|\b/\b-\b\\\b|\b/\b-\b\\\b|\b \bLWS=32 GWS=327680 (10240 blocks) \n",
            "Proceeding with single, rules:Single\n",
            " \bPress Ctrl-C to abort, or send SIGUSR1 to john process for status\n",
            "Almost done: Processing the remaining buffered candidate passwords, if any.\n",
            "Warning: Only 808 candidates buffered for the current salt, minimum 327680 needed for performance.\n",
            "Warning: Only 824 candidates buffered for the current salt, minimum 327680 needed for performance.\n",
            "Warning: Only 836 candidates buffered for the current salt, minimum 327680 needed for performance.\n",
            "frankfrank       (frank\u001b[0m)     \n",
            "Warning: Only 830 candidates buffered for the current salt, minimum 327680 needed for performance.\n",
            "Warning: Only 837 candidates buffered for the current salt, minimum 327680 needed for performance.\n",
            "Warning: Only 826 candidates buffered for the current salt, minimum 327680 needed for performance.\n",
            "Warning: Only 843 candidates buffered for the current salt, minimum 327680 needed for performance.\n",
            "Warning: Only 847 candidates buffered for the current salt, minimum 327680 needed for performance.\n",
            "louis1987        (louis\u001b[0m)     \n",
            "Warning: Only 799 candidates buffered for the current salt, minimum 327680 needed for performance.\n",
            "Warning: Only 825 candidates buffered for the current salt, minimum 327680 needed for performance.\n",
            "Further messages of this type will be suppressed.\n",
            "2g 0:00:00:00 DONE 1/3 (2023-11-14 12:20) 18.18g/s 174118p/s 320890c/s 320890C/s victor..louis1987\n",
            "Proceeding with wordlist:/content/password_cracking/john/run/password.lst\n",
            " \bEnabling duplicate candidate password suppressor\n",
            "Pa$$w0rd         (heidi\u001b[0m)     \n",
            "12345            (alice\u001b[0m)     \n",
            "Device 1 probably invalid temp reading (-1°C).\n",
            "!QAZ2wsx         (grace\u001b[0m)     \n",
            "                 (nils\u001b[0m)     \n",
            "1qaz!QAZ         (quincy\u001b[0m)     \n",
            "password9        (victor\u001b[0m)     \n",
            "samsucks         (bob\u001b[0m)     \n",
            "^YHN7ujm         (rick\u001b[0m)     \n",
            "Session aborted\n"
          ]
        }
      ]
    },
    {
      "cell_type": "markdown",
      "metadata": {
        "id": "XyH1GSGNWfVt"
      },
      "source": [
        "Next we try the **rockyou.txt** wordlist. The company RockYou used to store user passwords unencrypted, got hacked and had the passwords leaked, see https://en.wikipedia.org/wiki/RockYou#Data_breach. While bad for the users, this incident gave researchers valuable insight in real-world password usage."
      ]
    },
    {
      "cell_type": "code",
      "metadata": {
        "id": "Lb0_87HH_Woc",
        "colab": {
          "base_uri": "https://localhost:8080/"
        },
        "outputId": "569b6688-2565-4129-892c-a8a36b11c9a1"
      },
      "source": [
        "!$(pwd)/john/run/john --wordlist=word_files/rockyou.txt --format=opencl passwd.txt"
      ],
      "execution_count": null,
      "outputs": [
        {
          "output_type": "stream",
          "name": "stdout",
          "text": [
            "Device 1: Tesla T4\n",
            "Using default input encoding: UTF-8\n",
            "Loaded 22 password hashes with 22 different salts (md5crypt-opencl, crypt(3) $1$ [MD5 OpenCL])\n",
            "Cracked 10 password hashes (are in /content/password_cracking/john/run/john.pot), use \"--show\"\n",
            "Remaining 12 password hashes with 12 different salts\n",
            "/\b-\b\\\b|\b/\b-\b\\\b|\b/\b-\b\\\b|\b/\b-\b\\\b|\b/\b-\b\\\b|\b/\b-\b\\\b|\b/\b-\b\\\b|\b/\b-\b\\\b|\b/\b-\b\\\b|\b/\b-\b\\\b|\b/\b-\b\\\b|\b/\b-\b\\\b|\b/\b-\b\\\b|\b/\b-\b\\\b|\b/\b-\b\\\b|\b/\b-\b\\\b|\b/\b-\b\\\b|\b/\b-\b\\\b|\b/\b-\b\\\b|\b/\b-\b\\\b|\b/\b \b-\b\\\b|\b/\b \b-\b\\\b|\b/\b \b-\b\\\b|\b/\b \b-\b\\\b|\b/\b \b-\b\\\b|\b/\b-\b\\\b|\b/\b-\b\\\b|\b \bLWS=32 GWS=327680 (10240 blocks) \n",
            " \bPress Ctrl-C to abort, or send SIGUSR1 to john process for status\n",
            "Device 1 probably invalid temp reading (-1°C).\n",
            "!@#$1234qwer     (charlie\u001b[0m)     \n",
            "1g 0:00:00:34 DONE (2023-11-14 10:56) 0g/s 404708p/s 4527Kc/s 4527KC/s #1boricua!..\u0004*\u00037¡Vamos!\u0003\n",
            "Use the \"--show\" option to display all of the cracked passwords reliably\n",
            "Session completed. \n"
          ]
        }
      ]
    },
    {
      "cell_type": "markdown",
      "metadata": {
        "id": "xjxKNc3aX0oZ"
      },
      "source": [
        "Let's try some more known passwords. The synthetic dataset **email_phished.txt** is a made-up list of passwords that could have been phished via email. See: https://en.wikipedia.org/wiki/Phishing"
      ]
    },
    {
      "cell_type": "code",
      "metadata": {
        "id": "7ON93tsxsRJ7",
        "colab": {
          "base_uri": "https://localhost:8080/"
        },
        "outputId": "6a2a7149-ffb7-46ac-e080-891d9de07341"
      },
      "source": [
        "!$(pwd)/john/run/john --wordlist=word_files/email_phished.txt --format=opencl passwd.txt"
      ],
      "execution_count": 11,
      "outputs": [
        {
          "output_type": "stream",
          "name": "stdout",
          "text": [
            "Device 1: Tesla T4\n",
            "Using default input encoding: UTF-8\n",
            "Loaded 22 password hashes with 22 different salts (md5crypt-opencl, crypt(3) $1$ [MD5 OpenCL])\n",
            "Cracked 2 password hashes (are in /content/password_cracking/john/run/john.pot), use \"--show\"\n",
            "Remaining 20 password hashes with 20 different salts\n",
            "/\b-\b\\\b|\b/\b-\b\\\b|\b/\b-\b\\\b|\b/\b-\b\\\b|\b/\b-\b\\\b|\b/\b-\b\\\b|\b/\b-\b\\\b|\b/\b-\b\\\b|\b/\b-\b\\\b|\b/\b-\b\\\b|\b/\b-\b\\\b|\b/\b-\b\\\b|\b/\b-\b\\\b|\b/\b-\b\\\b|\b/\b-\b\\\b|\b/\b-\b\\\b|\b/\b-\b\\\b|\b/\b-\b\\\b|\b/\b-\b\\\b|\b/\b-\b\\\b|\b/\b \b-\b\\\b|\b/\b \b-\b\\\b|\b/\b \b-\b\\\b|\b/\b \b-\b\\\b|\b/\b \b-\b\\\b|\b/\b-\b\\\b|\b/\b-\b\\\b|\b \bLWS=32 GWS=163840 (5120 blocks) \n",
            " \bPress Ctrl-C to abort, or send SIGUSR1 to john process for status\n",
            "Warning: Only 4 candidates buffered, minimum 163840 needed for performance.\n",
            "F(t7eh#qtzC!7    (klaus\u001b[0m)     \n",
            "1g 0:00:00:00 DONE (2023-11-14 12:20) 16.67g/s 66.67p/s 1333c/s 1333C/s uiaedtn..toast\n",
            "Use the \"--show\" option to display all of the cracked passwords reliably\n",
            "Session completed. \n"
          ]
        }
      ]
    },
    {
      "cell_type": "markdown",
      "metadata": {
        "id": "t9DnOzSdYbPh"
      },
      "source": [
        "Re-using passwords is very, *very* bad practise. Is any of our users re-using passwords that were leaked from this (fictive) webshop?"
      ]
    },
    {
      "cell_type": "code",
      "metadata": {
        "id": "FNJk-Ffhsds6",
        "colab": {
          "base_uri": "https://localhost:8080/"
        },
        "outputId": "1ab40228-42e6-4f80-d528-ad41ce936e04"
      },
      "source": [
        "!$(pwd)/john/run/john --wordlist=word_files/webshop_leak.txt --format=opencl passwd.txt"
      ],
      "execution_count": null,
      "outputs": [
        {
          "output_type": "stream",
          "name": "stdout",
          "text": [
            "Device 1: Tesla T4\n",
            "Using default input encoding: UTF-8\n",
            "Loaded 22 password hashes with 22 different salts (md5crypt-opencl, crypt(3) $1$ [MD5 OpenCL])\n",
            "Cracked 12 password hashes (are in /content/password_cracking/john/run/john.pot), use \"--show\"\n",
            "Remaining 10 password hashes with 10 different salts\n",
            "/\b-\b\\\b|\b/\b-\b\\\b|\b/\b-\b\\\b|\b/\b-\b\\\b|\b/\b-\b\\\b|\b/\b-\b\\\b|\b/\b-\b\\\b|\b/\b-\b\\\b|\b/\b-\b\\\b|\b/\b-\b\\\b|\b/\b-\b\\\b|\b/\b-\b\\\b|\b/\b-\b\\\b|\b/\b-\b\\\b|\b/\b-\b\\\b|\b/\b-\b\\\b|\b/\b-\b\\\b|\b/\b-\b\\\b|\b/\b-\b\\\b|\b/\b-\b\\\b|\b/\b \b-\b\\\b|\b/\b \b-\b\\\b|\b/\b \b-\b\\\b|\b/\b \b-\b\\\b|\b/\b \b-\b\\\b|\b/\b-\b\\\b|\b/\b-\b\\\b|\b \bLWS=32 GWS=163840 (5120 blocks) \n",
            " \bPress Ctrl-C to abort, or send SIGUSR1 to john process for status\n",
            "Warning: Only 4 candidates buffered, minimum 163840 needed for performance.\n",
            "]Zal:zyl;+Ig     (mike\u001b[0m)     \n",
            "1g 0:00:00:00 DONE (2023-11-14 10:56) 33.33g/s 133.3p/s 1333c/s 1333C/s O>iw#yakh0L8..]Zal:zyl;+Ig\n",
            "Use the \"--show\" option to display all of the cracked passwords reliably\n",
            "Session completed. \n"
          ]
        }
      ]
    },
    {
      "cell_type": "markdown",
      "metadata": {
        "id": "-LMbe8qdYrPb"
      },
      "source": [
        "Some people recommend using a random combination of words as passwords. Is this good advice?\n",
        "\n",
        "During the setup at the beginning of the notebook, we downloaded a dictionary of the 10000 most used words in the English language - **google-10000-english.txt**. For demonstrational purposes, we shortened that list to 1500 words and 100 words, respectively. The **combine.py** script concatenates N different words from a given word file. We pipe these into the password cracking program.\n",
        "\n",
        "Let's start with two words from the top 1500 list."
      ]
    },
    {
      "cell_type": "code",
      "metadata": {
        "id": "FUYh5DVp80yx",
        "colab": {
          "base_uri": "https://localhost:8080/"
        },
        "outputId": "065cadd6-772c-4652-b529-d18dcbbf3dfc"
      },
      "source": [
        "!./combine.py 2 word_files/google-1500-english.txt | $(pwd)/john/run/john --format=opencl -stdin passwd.txt"
      ],
      "execution_count": null,
      "outputs": [
        {
          "output_type": "stream",
          "name": "stdout",
          "text": [
            "Device 1: Tesla T4\n",
            "Using default input encoding: UTF-8\n",
            "Loaded 22 password hashes with 22 different salts (md5crypt-opencl, crypt(3) $1$ [MD5 OpenCL])\n",
            "Cracked 13 password hashes (are in /content/password_cracking/john/run/john.pot), use \"--show\"\n",
            "Remaining 9 password hashes with 9 different salts\n",
            "/\b-\b\\\b|\b/\b-\b\\\b|\b/\b-\b\\\b|\b/\b-\b\\\b|\b/\b-\b\\\b|\b/\b-\b\\\b|\b/\b-\b\\\b|\b/\b-\b\\\b|\b/\b-\b\\\b|\b/\b-\b\\\b|\b/\b-\b\\\b|\b/\b-\b\\\b|\b/\b-\b\\\b|\b/\b-\b\\\b|\b/\b-\b\\\b|\b/\b-\b\\\b|\b/\b-\b\\\b|\b/\b-\b\\\b|\b/\b-\b\\\b|\b/\b-\b\\\b|\b/\b \b-\b\\\b|\b/\b \b-\b\\\b|\b/\b \b-\b\\\b|\b/\b \b-\b\\\b|\b/\b \b-\b\\\b|\b/\b-\b\\\b|\b/\b-\b\\\b|\b \bLWS=32 GWS=327680 (10240 blocks) \n",
            " \bPress Ctrl-C to abort, or send SIGUSR1 to john process for status\n",
            "Device 1 probably invalid temp reading (-1°C).\n",
            "supersecure      (erin\u001b[0m)     \n",
            "1g 0:00:00:04  0g/s 405120p/s 3634Kc/s 3634KC/s insteaddisease..photographyvan\n",
            "Use the \"--show\" option to display all of the cracked passwords reliably\n",
            "Session completed. \n"
          ]
        }
      ]
    },
    {
      "cell_type": "markdown",
      "metadata": {
        "id": "dMuFJeTrZ4MJ"
      },
      "source": [
        "And combining four words from the top 100 list."
      ]
    },
    {
      "cell_type": "code",
      "metadata": {
        "id": "KrnT5_m0A8G3",
        "colab": {
          "base_uri": "https://localhost:8080/"
        },
        "outputId": "6aa30d3a-32a6-41e5-9c91-ba113097e247"
      },
      "source": [
        "!./combine.py 4 word_files/google-100-english.txt | $(pwd)/john/run/john --format=opencl -stdin passwd.txt"
      ],
      "execution_count": null,
      "outputs": [
        {
          "output_type": "stream",
          "name": "stdout",
          "text": [
            "Device 1: Tesla T4\n",
            "Using default input encoding: UTF-8\n",
            "Loaded 22 password hashes with 22 different salts (md5crypt-opencl, crypt(3) $1$ [MD5 OpenCL])\n",
            "Cracked 14 password hashes (are in /content/password_cracking/john/run/john.pot), use \"--show\"\n",
            "Remaining 8 password hashes with 8 different salts\n",
            "/\b-\b\\\b|\b/\b-\b\\\b|\b/\b-\b\\\b|\b/\b-\b\\\b|\b/\b-\b\\\b|\b/\b-\b\\\b|\b/\b-\b\\\b|\b/\b-\b\\\b|\b/\b-\b\\\b|\b/\b-\b\\\b|\b/\b-\b\\\b|\b/\b-\b\\\b|\b/\b-\b\\\b|\b/\b-\b\\\b|\b/\b-\b\\\b|\b/\b-\b\\\b|\b/\b-\b\\\b|\b/\b-\b\\\b|\b/\b-\b\\\b|\b/\b-\b\\\b|\b/\b \b-\b\\\b|\b/\b \b-\b\\\b|\b/\b \b-\b\\\b|\b/\b \b-\b\\\b|\b/\b \b-\b\\\b|\b/\b-\b\\\b|\b/\b-\b\\\b|\b \bLWS=32 GWS=163840 (5120 blocks) \n",
            " \bPress Ctrl-C to abort, or send SIGUSR1 to john process for status\n",
            "Device 1 probably invalid temp reading (-1°C).\n",
            "getthishomenow   (petra\u001b[0m)     \n",
            "Traceback (most recent call last):\n",
            "  File \"/content/password_cracking/./combine.py\", line 19, in <module>\n",
            "    print(combined)\n",
            "KeyboardInterrupt\n",
            "1g 0:00:02:57  0g/s 419865p/s 3273Kc/s 3273KC/s thanmaypagetime..thanviewhashave\n",
            "Use the \"--show\" option to display all of the cracked passwords reliably\n",
            "Session aborted\n",
            "^C\n"
          ]
        }
      ]
    },
    {
      "cell_type": "markdown",
      "metadata": {
        "id": "JEQ8koKCZ94c"
      },
      "source": [
        "We can also check for specific patterns, like using numbers only. This drastically shrinks the parameter space we have to try. Cancel this cell after 5 mins or one match."
      ]
    },
    {
      "cell_type": "code",
      "metadata": {
        "id": "ZYvSNfM0APWl",
        "colab": {
          "base_uri": "https://localhost:8080/"
        },
        "outputId": "6bc42ad0-ed6e-40ce-90c5-cbefc95ae12a"
      },
      "source": [
        "!$(pwd)/john/run/john --incremental:digits --format=opencl passwd.txt"
      ],
      "execution_count": null,
      "outputs": [
        {
          "output_type": "stream",
          "name": "stdout",
          "text": [
            "Device 1: Tesla T4\n",
            "Using default input encoding: UTF-8\n",
            "Loaded 22 password hashes with 22 different salts (md5crypt-opencl, crypt(3) $1$ [MD5 OpenCL])\n",
            "Cracked 15 password hashes (are in /content/password_cracking/john/run/john.pot), use \"--show\"\n",
            "Remaining 7 password hashes with 7 different salts\n",
            "/\b-\b\\\b|\b/\b-\b\\\b|\b/\b-\b\\\b|\b/\b-\b\\\b|\b/\b-\b\\\b|\b/\b-\b\\\b|\b/\b-\b\\\b|\b/\b-\b\\\b|\b/\b-\b\\\b|\b/\b-\b\\\b|\b/\b-\b\\\b|\b/\b-\b\\\b|\b/\b-\b\\\b|\b/\b-\b\\\b|\b/\b-\b\\\b|\b/\b-\b\\\b|\b/\b-\b\\\b|\b/\b-\b\\\b|\b/\b-\b\\\b|\b/\b-\b\\\b|\b \b/\b-\b\\\b|\b/\b-\b\\\b|\b \b/\b-\b\\\b|\b/\b-\b\\\b|\b \b/\b-\b\\\b|\b/\b-\b\\\b|\b \b/\b-\b\\\b|\b/\b-\b\\\b|\b \b/\b-\b\\\b|\b/\b-\b\\\b|\b/\b-\b\\\b|\b \bLWS=32 GWS=163840 (5120 blocks) \n",
            " \bPress Ctrl-C to abort, or send SIGUSR1 to john process for status\n",
            "Device 1 probably invalid temp reading (-1°C).\n",
            "13467354         (judy\u001b[0m)     \n",
            "1g 0:00:00:34  0g/s 1224Kp/s 8358Kc/s 8358KC/s 06088075..99059046\n",
            "Use the \"--show\" option to display all of the cracked passwords reliably\n",
            "Session aborted\n"
          ]
        }
      ]
    },
    {
      "cell_type": "markdown",
      "metadata": {
        "id": "sKRLGjfSanaV"
      },
      "source": [
        "Once we run out of ideas, we can brute-force passwords by trying a certain number of completely random characters. We start with three. Write down the runtime of this cell and compare it to the following ones. How much longer does it take once we add one more character?\n",
        "\n",
        "You will realize that completely random characters are significantly harder to crack than the passwords we found out above."
      ]
    },
    {
      "cell_type": "code",
      "metadata": {
        "id": "rJgRakbaBuHj",
        "colab": {
          "base_uri": "https://localhost:8080/"
        },
        "outputId": "1c8ea998-03ec-40aa-f0b9-92e2c4363de1"
      },
      "source": [
        "!$(pwd)/john/run/john --incremental:Short3 --format=opencl passwd.txt"
      ],
      "execution_count": null,
      "outputs": [
        {
          "output_type": "stream",
          "name": "stdout",
          "text": [
            "Device 1: Tesla T4\n",
            "Using default input encoding: UTF-8\n",
            "Loaded 22 password hashes with 22 different salts (md5crypt-opencl, crypt(3) $1$ [MD5 OpenCL])\n",
            "Cracked 16 password hashes (are in /content/password_cracking/john/run/john.pot), use \"--show\"\n",
            "Remaining 6 password hashes with 6 different salts\n",
            "/\b-\b\\\b|\b/\b-\b\\\b|\b/\b-\b\\\b|\b/\b-\b\\\b|\b/\b-\b\\\b|\b/\b-\b\\\b|\b/\b-\b\\\b|\b/\b-\b\\\b|\b/\b-\b\\\b|\b/\b-\b\\\b|\b/\b-\b\\\b|\b/\b-\b\\\b|\b/\b-\b\\\b|\b/\b-\b\\\b|\b/\b-\b\\\b|\b/\b-\b\\\b|\b/\b-\b\\\b|\b/\b-\b\\\b|\b/\b-\b\\\b|\b/\b-\b\\\b \b|\b/\b-\b\\\b|\b/\b-\b\\\b|\b/\b-\b\\\b|\b/\b-\b\\\b|\b/\b-\b \b\\\b|\b/\b-\b\\\b|\b/\b-\b\\\b|\b/\b-\b\\\b|\b/\b-\b\\\b|\b/\b \b-\b\\\b|\b/\b-\b\\\b|\b/\b-\b\\\b|\b/\b-\b\\\b|\b/\b-\b\\\b|\b \b/\b-\b\\\b|\b/\b-\b\\\b|\b/\b-\b\\\b|\b/\b-\b\\\b|\b/\b-\b\\\b \b|\b/\b-\b\\\b|\b/\b-\b\\\b|\b/\b-\b\\\b \bLWS=32 GWS=163840 (5120 blocks) \n",
            "Warning: only 95 characters available\n",
            " \bPress Ctrl-C to abort, or send SIGUSR1 to john process for status\n",
            "'f_              (tara\u001b[0m)     \n",
            "1g 0:00:00:00 N/A 1.124g/s 973591p/s 5420Kc/s 5420KC/s }WR..|||\n",
            "Use the \"--show\" option to display all of the cracked passwords reliably\n",
            "Session completed. \n"
          ]
        }
      ]
    },
    {
      "cell_type": "markdown",
      "metadata": {
        "id": "zyBITltXbMsX"
      },
      "source": [
        "Next up is four characters..."
      ]
    },
    {
      "cell_type": "code",
      "metadata": {
        "id": "_mxe6qa5Q_cK",
        "colab": {
          "base_uri": "https://localhost:8080/"
        },
        "outputId": "31332582-93bd-42c4-c194-ecd1cd3d89b2"
      },
      "source": [
        "!$(pwd)/john/run/john --incremental:Short4 --format=opencl passwd.txt"
      ],
      "execution_count": null,
      "outputs": [
        {
          "output_type": "stream",
          "name": "stdout",
          "text": [
            "Device 1: Tesla T4\n",
            "Using default input encoding: UTF-8\n",
            "Loaded 22 password hashes with 22 different salts (md5crypt-opencl, crypt(3) $1$ [MD5 OpenCL])\n",
            "Cracked 17 password hashes (are in /content/password_cracking/john/run/john.pot), use \"--show\"\n",
            "Remaining 5 password hashes with 5 different salts\n",
            "/\b-\b\\\b|\b/\b-\b\\\b|\b/\b-\b\\\b|\b/\b-\b\\\b|\b/\b-\b\\\b|\b/\b-\b\\\b|\b/\b-\b\\\b|\b/\b-\b\\\b|\b/\b-\b\\\b|\b/\b-\b\\\b|\b/\b-\b\\\b|\b/\b-\b\\\b|\b/\b-\b\\\b|\b/\b-\b\\\b|\b/\b-\b\\\b|\b/\b-\b\\\b|\b/\b-\b\\\b|\b/\b-\b\\\b|\b/\b-\b\\\b|\b/\b-\b\\\b \b|\b/\b-\b\\\b|\b/\b-\b\\\b|\b/\b-\b\\\b|\b/\b-\b\\\b|\b/\b \b-\b\\\b|\b/\b-\b\\\b|\b/\b-\b\\\b|\b/\b-\b\\\b|\b/\b-\b\\\b \b|\b/\b-\b\\\b|\b/\b-\b\\\b|\b/\b-\b\\\b|\b/\b-\b\\\b|\b/\b \b-\b\\\b|\b/\b-\b\\\b|\b/\b-\b\\\b|\b/\b-\b\\\b|\b/\b-\b\\\b \b|\b/\b-\b\\\b|\b/\b-\b\\\b|\b/\b-\b \bLWS=32 GWS=163840 (5120 blocks) \n",
            "Warning: only 95 characters available\n",
            " \bPress Ctrl-C to abort, or send SIGUSR1 to john process for status\n",
            "Device 1 probably invalid temp reading (-1°C).\n",
            "6p]O             (otto\u001b[0m)     \n",
            "1g 0:00:00:39 DONE (2023-11-14 11:01) 0g/s 2061Kp/s 9235Kc/s 9235KC/s ^AT|..||||\n",
            "Use the \"--show\" option to display all of the cracked passwords reliably\n",
            "Session completed. \n"
          ]
        }
      ]
    },
    {
      "cell_type": "markdown",
      "metadata": {
        "id": "gH0v5d0sbSZ6"
      },
      "source": [
        "... and five characters. After you find one password with this method, cancel the run by clicking on the square button on the left of that cell. Warning: this might take more than an hour. Grab a coffee, work on something else in the meantime. Check back here every 15 mins."
      ]
    },
    {
      "cell_type": "code",
      "metadata": {
        "id": "7KiMIAD01fSr"
      },
      "source": [
        "!$(pwd)/john/run/john --incremental:Short5 --format=opencl passwd.txt"
      ],
      "execution_count": null,
      "outputs": []
    },
    {
      "cell_type": "markdown",
      "metadata": {
        "id": "SskL29Wtb0io"
      },
      "source": [
        "Six characters is next. The runtime might terminate before you can find a password hash. Free, online GPU time has it's limits. Feel free to skip this cell or try to crack it locally on your own hardware."
      ]
    },
    {
      "cell_type": "code",
      "metadata": {
        "id": "2u6hi9gKUje3"
      },
      "source": [
        "!$(pwd)/john/run/john --incremental:Short6 --format=opencl passwd.txt"
      ],
      "execution_count": null,
      "outputs": []
    },
    {
      "cell_type": "markdown",
      "metadata": {
        "id": "EvRlFvKscJHL"
      },
      "source": [
        "Cracking seven random characters will probably not work in this environment anymore. Give it a shot if you feel adventurous and have a lot of time on your hands, or just believe me it would take a long time in this online notebook. For more powerful hardware, however, this will be a matter of seconds."
      ]
    },
    {
      "cell_type": "code",
      "metadata": {
        "id": "M0SXeAClcMkQ"
      },
      "source": [
        "!$(pwd)/john/run/john --incremental:Short7 --format=opencl passwd.txt"
      ],
      "execution_count": null,
      "outputs": []
    },
    {
      "cell_type": "markdown",
      "metadata": {
        "id": "ET4R-P8OdwIP"
      },
      "source": [
        "Let's review which user's passwords we could crack easily on (as good as) no-cost hardware. Check above with which approach you cracked these. What mistakes were made? What would you advise to change?"
      ]
    },
    {
      "cell_type": "code",
      "metadata": {
        "id": "QY9Gl5B1AGhP",
        "colab": {
          "base_uri": "https://localhost:8080/"
        },
        "outputId": "a757c27e-9e4a-4d2a-cd37-fd8448f99dad"
      },
      "source": [
        "!$(pwd)/john/run/john --show passwd.txt"
      ],
      "execution_count": null,
      "outputs": [
        {
          "output_type": "stream",
          "name": "stdout",
          "text": [
            "alice:12345\n",
            "bob:samsucks\n",
            "charlie:!@#$1234qwer\n",
            "erin:supersecure\n",
            "frank:frankfrank\n",
            "grace:!QAZ2wsx\n",
            "heidi:Pa$$w0rd\n",
            "judy:13467354\n",
            "klaus:F(t7eh#qtzC!7\n",
            "louis:louis1987\n",
            "mike:]Zal:zyl;+Ig\n",
            "nils:\n",
            "otto:6p]O\n",
            "petra:getthishomenow\n",
            "quincy:1qaz!QAZ\n",
            "rick:^YHN7ujm\n",
            "tara:'f_\n",
            "victor:password9\n",
            "\n",
            "18 password hashes cracked, 4 left\n"
          ]
        }
      ]
    },
    {
      "cell_type": "markdown",
      "metadata": {
        "id": "vzkeNAvKeG-u"
      },
      "source": [
        "Check out this [password cracking chart](https://i.imgur.com/e3mGIFY.png) made by Reddit user *u/HelmedHorror*. It gives a good impression of password length vs. effort to crack. This Google notebook can manage a few 100,000,000 password hasher per second, using the GPU runtime. Serious attackers have hardware many orders of magnitude faster at their disposal. And as time goes by, this hardware will get more affordable and more powerful."
      ]
    }
  ]
}
